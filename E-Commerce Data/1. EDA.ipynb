{
  "nbformat": 4,
  "nbformat_minor": 0,
  "metadata": {
    "colab": {
      "name": "JeongUk EDA.ipynb",
      "provenance": [],
      "collapsed_sections": []
    },
    "kernelspec": {
      "name": "python3",
      "display_name": "Python 3"
    },
    "language_info": {
      "name": "python"
    },
    "widgets": {
      "application/vnd.jupyter.widget-state+json": {
        "d4ea55ad109e4292b694467435ac478c": {
          "model_module": "@jupyter-widgets/controls",
          "model_name": "HBoxModel",
          "state": {
            "_view_name": "HBoxView",
            "_dom_classes": [],
            "_model_name": "HBoxModel",
            "_view_module": "@jupyter-widgets/controls",
            "_model_module_version": "1.5.0",
            "_view_count": null,
            "_view_module_version": "1.5.0",
            "box_style": "",
            "layout": "IPY_MODEL_2c6d5eaec33249c39eba898da4f988d1",
            "_model_module": "@jupyter-widgets/controls",
            "children": [
              "IPY_MODEL_44e76762984e4c94879097c32c04ae8d",
              "IPY_MODEL_57af7aacf12c4a91aee571a376ae188e"
            ]
          }
        },
        "2c6d5eaec33249c39eba898da4f988d1": {
          "model_module": "@jupyter-widgets/base",
          "model_name": "LayoutModel",
          "state": {
            "_view_name": "LayoutView",
            "grid_template_rows": null,
            "right": null,
            "justify_content": null,
            "_view_module": "@jupyter-widgets/base",
            "overflow": null,
            "_model_module_version": "1.2.0",
            "_view_count": null,
            "flex_flow": null,
            "width": null,
            "min_width": null,
            "border": null,
            "align_items": null,
            "bottom": null,
            "_model_module": "@jupyter-widgets/base",
            "top": null,
            "grid_column": null,
            "overflow_y": null,
            "overflow_x": null,
            "grid_auto_flow": null,
            "grid_area": null,
            "grid_template_columns": null,
            "flex": null,
            "_model_name": "LayoutModel",
            "justify_items": null,
            "grid_row": null,
            "max_height": null,
            "align_content": null,
            "visibility": null,
            "align_self": null,
            "height": null,
            "min_height": null,
            "padding": null,
            "grid_auto_rows": null,
            "grid_gap": null,
            "max_width": null,
            "order": null,
            "_view_module_version": "1.2.0",
            "grid_template_areas": null,
            "object_position": null,
            "object_fit": null,
            "grid_auto_columns": null,
            "margin": null,
            "display": null,
            "left": null
          }
        },
        "44e76762984e4c94879097c32c04ae8d": {
          "model_module": "@jupyter-widgets/controls",
          "model_name": "FloatProgressModel",
          "state": {
            "_view_name": "ProgressView",
            "style": "IPY_MODEL_e6f6008e038c4affab06b5a1dbfb8e30",
            "_dom_classes": [],
            "description": "",
            "_model_name": "FloatProgressModel",
            "bar_style": "success",
            "max": 1,
            "_view_module": "@jupyter-widgets/controls",
            "_model_module_version": "1.5.0",
            "value": 1,
            "_view_count": null,
            "_view_module_version": "1.5.0",
            "orientation": "horizontal",
            "min": 0,
            "description_tooltip": null,
            "_model_module": "@jupyter-widgets/controls",
            "layout": "IPY_MODEL_05ecc51356984bd2a9f7c483d689c4c3"
          }
        },
        "57af7aacf12c4a91aee571a376ae188e": {
          "model_module": "@jupyter-widgets/controls",
          "model_name": "HTMLModel",
          "state": {
            "_view_name": "HTMLView",
            "style": "IPY_MODEL_f6c998354b3e463c9aa7171d5a6c049c",
            "_dom_classes": [],
            "description": "",
            "_model_name": "HTMLModel",
            "placeholder": "​",
            "_view_module": "@jupyter-widgets/controls",
            "_model_module_version": "1.5.0",
            "value": " 8617/? [07:27&lt;00:00, 19.25it/s]",
            "_view_count": null,
            "_view_module_version": "1.5.0",
            "description_tooltip": null,
            "_model_module": "@jupyter-widgets/controls",
            "layout": "IPY_MODEL_f888286123d940cb8f63de375ae2e604"
          }
        },
        "e6f6008e038c4affab06b5a1dbfb8e30": {
          "model_module": "@jupyter-widgets/controls",
          "model_name": "ProgressStyleModel",
          "state": {
            "_view_name": "StyleView",
            "_model_name": "ProgressStyleModel",
            "description_width": "initial",
            "_view_module": "@jupyter-widgets/base",
            "_model_module_version": "1.5.0",
            "_view_count": null,
            "_view_module_version": "1.2.0",
            "bar_color": null,
            "_model_module": "@jupyter-widgets/controls"
          }
        },
        "05ecc51356984bd2a9f7c483d689c4c3": {
          "model_module": "@jupyter-widgets/base",
          "model_name": "LayoutModel",
          "state": {
            "_view_name": "LayoutView",
            "grid_template_rows": null,
            "right": null,
            "justify_content": null,
            "_view_module": "@jupyter-widgets/base",
            "overflow": null,
            "_model_module_version": "1.2.0",
            "_view_count": null,
            "flex_flow": null,
            "width": null,
            "min_width": null,
            "border": null,
            "align_items": null,
            "bottom": null,
            "_model_module": "@jupyter-widgets/base",
            "top": null,
            "grid_column": null,
            "overflow_y": null,
            "overflow_x": null,
            "grid_auto_flow": null,
            "grid_area": null,
            "grid_template_columns": null,
            "flex": null,
            "_model_name": "LayoutModel",
            "justify_items": null,
            "grid_row": null,
            "max_height": null,
            "align_content": null,
            "visibility": null,
            "align_self": null,
            "height": null,
            "min_height": null,
            "padding": null,
            "grid_auto_rows": null,
            "grid_gap": null,
            "max_width": null,
            "order": null,
            "_view_module_version": "1.2.0",
            "grid_template_areas": null,
            "object_position": null,
            "object_fit": null,
            "grid_auto_columns": null,
            "margin": null,
            "display": null,
            "left": null
          }
        },
        "f6c998354b3e463c9aa7171d5a6c049c": {
          "model_module": "@jupyter-widgets/controls",
          "model_name": "DescriptionStyleModel",
          "state": {
            "_view_name": "StyleView",
            "_model_name": "DescriptionStyleModel",
            "description_width": "",
            "_view_module": "@jupyter-widgets/base",
            "_model_module_version": "1.5.0",
            "_view_count": null,
            "_view_module_version": "1.2.0",
            "_model_module": "@jupyter-widgets/controls"
          }
        },
        "f888286123d940cb8f63de375ae2e604": {
          "model_module": "@jupyter-widgets/base",
          "model_name": "LayoutModel",
          "state": {
            "_view_name": "LayoutView",
            "grid_template_rows": null,
            "right": null,
            "justify_content": null,
            "_view_module": "@jupyter-widgets/base",
            "overflow": null,
            "_model_module_version": "1.2.0",
            "_view_count": null,
            "flex_flow": null,
            "width": null,
            "min_width": null,
            "border": null,
            "align_items": null,
            "bottom": null,
            "_model_module": "@jupyter-widgets/base",
            "top": null,
            "grid_column": null,
            "overflow_y": null,
            "overflow_x": null,
            "grid_auto_flow": null,
            "grid_area": null,
            "grid_template_columns": null,
            "flex": null,
            "_model_name": "LayoutModel",
            "justify_items": null,
            "grid_row": null,
            "max_height": null,
            "align_content": null,
            "visibility": null,
            "align_self": null,
            "height": null,
            "min_height": null,
            "padding": null,
            "grid_auto_rows": null,
            "grid_gap": null,
            "max_width": null,
            "order": null,
            "_view_module_version": "1.2.0",
            "grid_template_areas": null,
            "object_position": null,
            "object_fit": null,
            "grid_auto_columns": null,
            "margin": null,
            "display": null,
            "left": null
          }
        }
      }
    }
  },
  "cells": [
    {
      "cell_type": "markdown",
      "metadata": {
        "id": "n7r6Hl9PVXM2"
      },
      "source": [
        "# 목적\n",
        "- 데이터 분석 장인들은 이커머스 데이터를 어떻게 분석하는지 탐구. 이를 위해 캐글 노트북, 논문 등을 좀 보고 내용을 정리할 것임\n",
        "- 나중에 계절성 분석, 추천 시스템, RFM 분석, 매출액 예측, 장바구니 분석 등을 할 것인데, 이를 위한 사전 작업이라 보면 됨.\n",
        "\n"
      ]
    },
    {
      "cell_type": "markdown",
      "metadata": {
        "id": "c0f05YhgTixe"
      },
      "source": [
        "# 사용  데이터셋\n",
        "[Online Retail Data Set](https://www.kaggle.com/carrie1/ecommerce-data)\n"
      ]
    },
    {
      "cell_type": "markdown",
      "metadata": {
        "id": "d6ro66QwTzX3"
      },
      "source": [
        "# 참고자료\n",
        "- [Complete E-Commerce Analysis](https://www.kaggle.com/anmoltripathi/complete-e-commerce-analysis)\n",
        "- [Customer Purchasing Patterns](https://www.kaggle.com/hendraherviawan/customer-purchasing-patterns)"
      ]
    },
    {
      "cell_type": "markdown",
      "metadata": {
        "id": "QIwld8rlTyDw"
      },
      "source": [
        "# 목차\n",
        "- Load data\n",
        "- Check null\n",
        "- 데이터 검증\n",
        "- 성과 개선 여부 측정 ( 매출, 구매 빈도, 고객 수 )\n",
        "- 구매 패턴 분석 ( 월별, 주별, 일별, 요일별, 시간별 ), ( 히트맵 사용 )"
      ]
    },
    {
      "cell_type": "markdown",
      "metadata": {
        "id": "4MvfT31Fu_Es"
      },
      "source": [
        "# 결과 요약\n",
        "1. `StockCode`는 `ItemCode`와 `OptionCode`로 나눌 수 있다.\n",
        "2. 하나의 `StockCode`는 여러 개의 `Description`과 `UnitPrice`를 가지기도 한다.\n",
        "3. `Quantity`와 `UnitPrice`에 0 이하의 값이 있다.\n",
        "4. 토요일과 21 - 05시에는 매출이 발생하지 않는다."
      ]
    },
    {
      "cell_type": "code",
      "metadata": {
        "id": "r-lPr009F1f-"
      },
      "source": [
        "import pandas as pd\n",
        "import numpy as np\n",
        "import matplotlib.pyplot as plt\n",
        "import seaborn as sns\n",
        "from datetime import datetime\n",
        "from tqdm.auto import tqdm\n",
        "import calendar"
      ],
      "execution_count": null,
      "outputs": []
    },
    {
      "cell_type": "markdown",
      "metadata": {
        "id": "J9SoYL1tqC0R"
      },
      "source": [
        "# Load data"
      ]
    },
    {
      "cell_type": "code",
      "metadata": {
        "colab": {
          "base_uri": "https://localhost:8080/",
          "height": 205
        },
        "id": "vWCcbacLUeLR",
        "outputId": "29dabd84-7877-430e-c2d5-ba0afba16243"
      },
      "source": [
        "df = pd.read_csv('/content/drive/MyDrive/data/E-Commerce Data.csv', \n",
        "                 dtype={'InvoiceNo': str, 'StockCode': str, 'Description': str, 'Quantity': int, 'UnitPrice': float, 'CustomerID': str, 'Country': str}, \n",
        "                 encoding='ISO-8859-1',\n",
        "                 parse_dates=['InvoiceDate'])\n",
        "df.head()"
      ],
      "execution_count": null,
      "outputs": [
        {
          "output_type": "execute_result",
          "data": {
            "text/html": [
              "<div>\n",
              "<style scoped>\n",
              "    .dataframe tbody tr th:only-of-type {\n",
              "        vertical-align: middle;\n",
              "    }\n",
              "\n",
              "    .dataframe tbody tr th {\n",
              "        vertical-align: top;\n",
              "    }\n",
              "\n",
              "    .dataframe thead th {\n",
              "        text-align: right;\n",
              "    }\n",
              "</style>\n",
              "<table border=\"1\" class=\"dataframe\">\n",
              "  <thead>\n",
              "    <tr style=\"text-align: right;\">\n",
              "      <th></th>\n",
              "      <th>InvoiceNo</th>\n",
              "      <th>StockCode</th>\n",
              "      <th>Description</th>\n",
              "      <th>Quantity</th>\n",
              "      <th>InvoiceDate</th>\n",
              "      <th>UnitPrice</th>\n",
              "      <th>CustomerID</th>\n",
              "      <th>Country</th>\n",
              "    </tr>\n",
              "  </thead>\n",
              "  <tbody>\n",
              "    <tr>\n",
              "      <th>0</th>\n",
              "      <td>536365</td>\n",
              "      <td>85123A</td>\n",
              "      <td>WHITE HANGING HEART T-LIGHT HOLDER</td>\n",
              "      <td>6</td>\n",
              "      <td>2010-12-01 08:26:00</td>\n",
              "      <td>2.55</td>\n",
              "      <td>17850</td>\n",
              "      <td>United Kingdom</td>\n",
              "    </tr>\n",
              "    <tr>\n",
              "      <th>1</th>\n",
              "      <td>536365</td>\n",
              "      <td>71053</td>\n",
              "      <td>WHITE METAL LANTERN</td>\n",
              "      <td>6</td>\n",
              "      <td>2010-12-01 08:26:00</td>\n",
              "      <td>3.39</td>\n",
              "      <td>17850</td>\n",
              "      <td>United Kingdom</td>\n",
              "    </tr>\n",
              "    <tr>\n",
              "      <th>2</th>\n",
              "      <td>536365</td>\n",
              "      <td>84406B</td>\n",
              "      <td>CREAM CUPID HEARTS COAT HANGER</td>\n",
              "      <td>8</td>\n",
              "      <td>2010-12-01 08:26:00</td>\n",
              "      <td>2.75</td>\n",
              "      <td>17850</td>\n",
              "      <td>United Kingdom</td>\n",
              "    </tr>\n",
              "    <tr>\n",
              "      <th>3</th>\n",
              "      <td>536365</td>\n",
              "      <td>84029G</td>\n",
              "      <td>KNITTED UNION FLAG HOT WATER BOTTLE</td>\n",
              "      <td>6</td>\n",
              "      <td>2010-12-01 08:26:00</td>\n",
              "      <td>3.39</td>\n",
              "      <td>17850</td>\n",
              "      <td>United Kingdom</td>\n",
              "    </tr>\n",
              "    <tr>\n",
              "      <th>4</th>\n",
              "      <td>536365</td>\n",
              "      <td>84029E</td>\n",
              "      <td>RED WOOLLY HOTTIE WHITE HEART.</td>\n",
              "      <td>6</td>\n",
              "      <td>2010-12-01 08:26:00</td>\n",
              "      <td>3.39</td>\n",
              "      <td>17850</td>\n",
              "      <td>United Kingdom</td>\n",
              "    </tr>\n",
              "  </tbody>\n",
              "</table>\n",
              "</div>"
            ],
            "text/plain": [
              "  InvoiceNo StockCode  ... CustomerID         Country\n",
              "0    536365    85123A  ...      17850  United Kingdom\n",
              "1    536365     71053  ...      17850  United Kingdom\n",
              "2    536365    84406B  ...      17850  United Kingdom\n",
              "3    536365    84029G  ...      17850  United Kingdom\n",
              "4    536365    84029E  ...      17850  United Kingdom\n",
              "\n",
              "[5 rows x 8 columns]"
            ]
          },
          "metadata": {
            "tags": []
          },
          "execution_count": 2
        }
      ]
    },
    {
      "cell_type": "code",
      "metadata": {
        "colab": {
          "base_uri": "https://localhost:8080/"
        },
        "id": "J0-8RNpiWlCS",
        "outputId": "8ba376a8-9595-404a-fc00-23ed091dd103"
      },
      "source": [
        "df.info()"
      ],
      "execution_count": null,
      "outputs": [
        {
          "output_type": "stream",
          "text": [
            "<class 'pandas.core.frame.DataFrame'>\n",
            "RangeIndex: 541909 entries, 0 to 541908\n",
            "Data columns (total 8 columns):\n",
            " #   Column       Non-Null Count   Dtype         \n",
            "---  ------       --------------   -----         \n",
            " 0   InvoiceNo    541909 non-null  object        \n",
            " 1   StockCode    541909 non-null  object        \n",
            " 2   Description  540455 non-null  object        \n",
            " 3   Quantity     541909 non-null  int64         \n",
            " 4   InvoiceDate  541909 non-null  datetime64[ns]\n",
            " 5   UnitPrice    541909 non-null  float64       \n",
            " 6   CustomerID   406829 non-null  object        \n",
            " 7   Country      541909 non-null  object        \n",
            "dtypes: datetime64[ns](1), float64(1), int64(1), object(5)\n",
            "memory usage: 33.1+ MB\n"
          ],
          "name": "stdout"
        }
      ]
    },
    {
      "cell_type": "markdown",
      "metadata": {
        "id": "qyBCC7dipt8U"
      },
      "source": [
        "`Quantity`와 `UnitPrice`에 음수값이 있는 것을 확인"
      ]
    },
    {
      "cell_type": "code",
      "metadata": {
        "colab": {
          "base_uri": "https://localhost:8080/",
          "height": 299
        },
        "id": "C1k9lJOCWq1i",
        "outputId": "e309b8dd-617d-41c1-e1bb-fe5ed9a60198"
      },
      "source": [
        "df.describe()"
      ],
      "execution_count": null,
      "outputs": [
        {
          "output_type": "execute_result",
          "data": {
            "text/html": [
              "<div>\n",
              "<style scoped>\n",
              "    .dataframe tbody tr th:only-of-type {\n",
              "        vertical-align: middle;\n",
              "    }\n",
              "\n",
              "    .dataframe tbody tr th {\n",
              "        vertical-align: top;\n",
              "    }\n",
              "\n",
              "    .dataframe thead th {\n",
              "        text-align: right;\n",
              "    }\n",
              "</style>\n",
              "<table border=\"1\" class=\"dataframe\">\n",
              "  <thead>\n",
              "    <tr style=\"text-align: right;\">\n",
              "      <th></th>\n",
              "      <th>Quantity</th>\n",
              "      <th>UnitPrice</th>\n",
              "    </tr>\n",
              "  </thead>\n",
              "  <tbody>\n",
              "    <tr>\n",
              "      <th>count</th>\n",
              "      <td>541909.000000</td>\n",
              "      <td>541909.000000</td>\n",
              "    </tr>\n",
              "    <tr>\n",
              "      <th>mean</th>\n",
              "      <td>9.552250</td>\n",
              "      <td>4.611114</td>\n",
              "    </tr>\n",
              "    <tr>\n",
              "      <th>std</th>\n",
              "      <td>218.081158</td>\n",
              "      <td>96.759853</td>\n",
              "    </tr>\n",
              "    <tr>\n",
              "      <th>min</th>\n",
              "      <td>-80995.000000</td>\n",
              "      <td>-11062.060000</td>\n",
              "    </tr>\n",
              "    <tr>\n",
              "      <th>25%</th>\n",
              "      <td>1.000000</td>\n",
              "      <td>1.250000</td>\n",
              "    </tr>\n",
              "    <tr>\n",
              "      <th>50%</th>\n",
              "      <td>3.000000</td>\n",
              "      <td>2.080000</td>\n",
              "    </tr>\n",
              "    <tr>\n",
              "      <th>75%</th>\n",
              "      <td>10.000000</td>\n",
              "      <td>4.130000</td>\n",
              "    </tr>\n",
              "    <tr>\n",
              "      <th>max</th>\n",
              "      <td>80995.000000</td>\n",
              "      <td>38970.000000</td>\n",
              "    </tr>\n",
              "  </tbody>\n",
              "</table>\n",
              "</div>"
            ],
            "text/plain": [
              "            Quantity      UnitPrice\n",
              "count  541909.000000  541909.000000\n",
              "mean        9.552250       4.611114\n",
              "std       218.081158      96.759853\n",
              "min    -80995.000000  -11062.060000\n",
              "25%         1.000000       1.250000\n",
              "50%         3.000000       2.080000\n",
              "75%        10.000000       4.130000\n",
              "max     80995.000000   38970.000000"
            ]
          },
          "metadata": {
            "tags": []
          },
          "execution_count": 4
        }
      ]
    },
    {
      "cell_type": "code",
      "metadata": {
        "colab": {
          "base_uri": "https://localhost:8080/",
          "height": 81
        },
        "id": "-xQ2wZZP3A8U",
        "outputId": "d65daae3-46e7-4f3e-81c9-32cd1ef7995d"
      },
      "source": [
        "df.nunique().to_frame().transpose()"
      ],
      "execution_count": null,
      "outputs": [
        {
          "output_type": "execute_result",
          "data": {
            "text/html": [
              "<div>\n",
              "<style scoped>\n",
              "    .dataframe tbody tr th:only-of-type {\n",
              "        vertical-align: middle;\n",
              "    }\n",
              "\n",
              "    .dataframe tbody tr th {\n",
              "        vertical-align: top;\n",
              "    }\n",
              "\n",
              "    .dataframe thead th {\n",
              "        text-align: right;\n",
              "    }\n",
              "</style>\n",
              "<table border=\"1\" class=\"dataframe\">\n",
              "  <thead>\n",
              "    <tr style=\"text-align: right;\">\n",
              "      <th></th>\n",
              "      <th>InvoiceNo</th>\n",
              "      <th>StockCode</th>\n",
              "      <th>Description</th>\n",
              "      <th>Quantity</th>\n",
              "      <th>InvoiceDate</th>\n",
              "      <th>UnitPrice</th>\n",
              "      <th>CustomerID</th>\n",
              "      <th>Country</th>\n",
              "    </tr>\n",
              "  </thead>\n",
              "  <tbody>\n",
              "    <tr>\n",
              "      <th>0</th>\n",
              "      <td>25900</td>\n",
              "      <td>4070</td>\n",
              "      <td>4223</td>\n",
              "      <td>722</td>\n",
              "      <td>23260</td>\n",
              "      <td>1630</td>\n",
              "      <td>4372</td>\n",
              "      <td>38</td>\n",
              "    </tr>\n",
              "  </tbody>\n",
              "</table>\n",
              "</div>"
            ],
            "text/plain": [
              "   InvoiceNo  StockCode  Description  ...  UnitPrice  CustomerID  Country\n",
              "0      25900       4070         4223  ...       1630        4372       38\n",
              "\n",
              "[1 rows x 8 columns]"
            ]
          },
          "metadata": {
            "tags": []
          },
          "execution_count": 5
        }
      ]
    },
    {
      "cell_type": "markdown",
      "metadata": {
        "id": "4ALsp88rXCYM"
      },
      "source": [
        "# Check null"
      ]
    },
    {
      "cell_type": "code",
      "metadata": {
        "colab": {
          "base_uri": "https://localhost:8080/"
        },
        "id": "CxGYq74JWh7S",
        "outputId": "635ab2f2-f7c1-479c-8fe5-5c913f7132c7"
      },
      "source": [
        "df.isnull().sum()"
      ],
      "execution_count": null,
      "outputs": [
        {
          "output_type": "execute_result",
          "data": {
            "text/plain": [
              "InvoiceNo           0\n",
              "StockCode           0\n",
              "Description      1454\n",
              "Quantity            0\n",
              "InvoiceDate         0\n",
              "UnitPrice           0\n",
              "CustomerID     135080\n",
              "Country             0\n",
              "dtype: int64"
            ]
          },
          "metadata": {
            "tags": []
          },
          "execution_count": 6
        }
      ]
    },
    {
      "cell_type": "markdown",
      "metadata": {
        "id": "sd4Rq5Qo4Xjn"
      },
      "source": [
        "경험상 E-commerce에서 `CustomerID`가 null인 경우는 주로 다음과 같다.\n",
        "1. 비회원 주문이 가능한 경우\n",
        "2. 자사 플랫폼이 아닌 오픈마켓(네이버 쇼핑, 쿠팡 등)을 통해 주문하는 경우\n",
        "3. 도난, 손상 등의 이유로 물건을 판매할 수 없을 때, 재고관리 목적으로 판매 테이블에 사유와 함께 기록\n",
        "4. 데이터 오류\n",
        "\n",
        "만약 1, 2번 이유에 의해 `CustomerID`가 null이 되었다면, 분석을 통해 해당 고객들의 특성을 파악하는 것이 좋아 보인다."
      ]
    },
    {
      "cell_type": "code",
      "metadata": {
        "colab": {
          "base_uri": "https://localhost:8080/",
          "height": 224
        },
        "id": "HogYaGQAWjMx",
        "outputId": "91d6e3e6-8e5c-4197-8062-7ea2c77e68fd"
      },
      "source": [
        "df_null = df[df['CustomerID'].isnull()].copy()\n",
        "print(len(df_null))\n",
        "df_null.head()"
      ],
      "execution_count": null,
      "outputs": [
        {
          "output_type": "stream",
          "text": [
            "135080\n"
          ],
          "name": "stdout"
        },
        {
          "output_type": "execute_result",
          "data": {
            "text/html": [
              "<div>\n",
              "<style scoped>\n",
              "    .dataframe tbody tr th:only-of-type {\n",
              "        vertical-align: middle;\n",
              "    }\n",
              "\n",
              "    .dataframe tbody tr th {\n",
              "        vertical-align: top;\n",
              "    }\n",
              "\n",
              "    .dataframe thead th {\n",
              "        text-align: right;\n",
              "    }\n",
              "</style>\n",
              "<table border=\"1\" class=\"dataframe\">\n",
              "  <thead>\n",
              "    <tr style=\"text-align: right;\">\n",
              "      <th></th>\n",
              "      <th>InvoiceNo</th>\n",
              "      <th>StockCode</th>\n",
              "      <th>Description</th>\n",
              "      <th>Quantity</th>\n",
              "      <th>InvoiceDate</th>\n",
              "      <th>UnitPrice</th>\n",
              "      <th>CustomerID</th>\n",
              "      <th>Country</th>\n",
              "    </tr>\n",
              "  </thead>\n",
              "  <tbody>\n",
              "    <tr>\n",
              "      <th>622</th>\n",
              "      <td>536414</td>\n",
              "      <td>22139</td>\n",
              "      <td>NaN</td>\n",
              "      <td>56</td>\n",
              "      <td>2010-12-01 11:52:00</td>\n",
              "      <td>0.00</td>\n",
              "      <td>NaN</td>\n",
              "      <td>United Kingdom</td>\n",
              "    </tr>\n",
              "    <tr>\n",
              "      <th>1443</th>\n",
              "      <td>536544</td>\n",
              "      <td>21773</td>\n",
              "      <td>DECORATIVE ROSE BATHROOM BOTTLE</td>\n",
              "      <td>1</td>\n",
              "      <td>2010-12-01 14:32:00</td>\n",
              "      <td>2.51</td>\n",
              "      <td>NaN</td>\n",
              "      <td>United Kingdom</td>\n",
              "    </tr>\n",
              "    <tr>\n",
              "      <th>1444</th>\n",
              "      <td>536544</td>\n",
              "      <td>21774</td>\n",
              "      <td>DECORATIVE CATS BATHROOM BOTTLE</td>\n",
              "      <td>2</td>\n",
              "      <td>2010-12-01 14:32:00</td>\n",
              "      <td>2.51</td>\n",
              "      <td>NaN</td>\n",
              "      <td>United Kingdom</td>\n",
              "    </tr>\n",
              "    <tr>\n",
              "      <th>1445</th>\n",
              "      <td>536544</td>\n",
              "      <td>21786</td>\n",
              "      <td>POLKADOT RAIN HAT</td>\n",
              "      <td>4</td>\n",
              "      <td>2010-12-01 14:32:00</td>\n",
              "      <td>0.85</td>\n",
              "      <td>NaN</td>\n",
              "      <td>United Kingdom</td>\n",
              "    </tr>\n",
              "    <tr>\n",
              "      <th>1446</th>\n",
              "      <td>536544</td>\n",
              "      <td>21787</td>\n",
              "      <td>RAIN PONCHO RETROSPOT</td>\n",
              "      <td>2</td>\n",
              "      <td>2010-12-01 14:32:00</td>\n",
              "      <td>1.66</td>\n",
              "      <td>NaN</td>\n",
              "      <td>United Kingdom</td>\n",
              "    </tr>\n",
              "  </tbody>\n",
              "</table>\n",
              "</div>"
            ],
            "text/plain": [
              "     InvoiceNo StockCode  ... CustomerID         Country\n",
              "622     536414     22139  ...        NaN  United Kingdom\n",
              "1443    536544     21773  ...        NaN  United Kingdom\n",
              "1444    536544     21774  ...        NaN  United Kingdom\n",
              "1445    536544     21786  ...        NaN  United Kingdom\n",
              "1446    536544     21787  ...        NaN  United Kingdom\n",
              "\n",
              "[5 rows x 8 columns]"
            ]
          },
          "metadata": {
            "tags": []
          },
          "execution_count": 7
        }
      ]
    },
    {
      "cell_type": "markdown",
      "metadata": {
        "id": "S4HDTJuUqO-H"
      },
      "source": [
        "`CustomerID`가 null인 것을 제거하고 보니 `Description`이 null인 것도 같이 제거됨."
      ]
    },
    {
      "cell_type": "code",
      "metadata": {
        "colab": {
          "base_uri": "https://localhost:8080/"
        },
        "id": "JreWhG7-Y19l",
        "outputId": "44d53b2b-96ac-4f7b-bfbf-bfce91e9f74f"
      },
      "source": [
        "df = df[~df['CustomerID'].isnull()]\n",
        "df.isnull().sum()"
      ],
      "execution_count": null,
      "outputs": [
        {
          "output_type": "execute_result",
          "data": {
            "text/plain": [
              "InvoiceNo      0\n",
              "StockCode      0\n",
              "Description    0\n",
              "Quantity       0\n",
              "InvoiceDate    0\n",
              "UnitPrice      0\n",
              "CustomerID     0\n",
              "Country        0\n",
              "dtype: int64"
            ]
          },
          "metadata": {
            "tags": []
          },
          "execution_count": 8
        }
      ]
    },
    {
      "cell_type": "markdown",
      "metadata": {
        "id": "0LeLimhdXFkb"
      },
      "source": [
        "# 데이터 검증"
      ]
    },
    {
      "cell_type": "markdown",
      "metadata": {
        "id": "SdP8INNeqqyo"
      },
      "source": [
        "## Quantity"
      ]
    },
    {
      "cell_type": "markdown",
      "metadata": {
        "id": "AJcunRUQdXRT"
      },
      "source": [
        "`StockCode`가 'C'로 시작하는 것은 `Quantity`가 음수가 하며, `StockCode`가 'C'로 시작하지 않는 것은 `Quantity`가 양수여야 한다.\n",
        "\n",
        "df는 이 조건을 만족한다."
      ]
    },
    {
      "cell_type": "code",
      "metadata": {
        "colab": {
          "base_uri": "https://localhost:8080/",
          "height": 112
        },
        "id": "5W6K86RO6jTE",
        "outputId": "672abe63-9910-418d-c4d7-7d21d3c36493"
      },
      "source": [
        "pd.DataFrame(\n",
        "    index=['Quantity > 0', 'Quantity <= 0'], \n",
        "    columns=[\"Starts with 'C'\", \"Do not starts with 'C'\"],\n",
        "    data=[\n",
        "          [len(df[(df['Quantity'] > 0) & (df['InvoiceNo'].str.startswith('C'))]), len(df[(df['Quantity'] > 0) & (~df['InvoiceNo'].str.startswith('C'))])],\n",
        "          [len(df[(df['Quantity'] <= 0) & (df['InvoiceNo'].str.startswith('C'))]), len(df[(df['Quantity'] <= 0) & (~df['InvoiceNo'].str.startswith('C'))])]\n",
        "          ]\n",
        "    )"
      ],
      "execution_count": null,
      "outputs": [
        {
          "output_type": "execute_result",
          "data": {
            "text/html": [
              "<div>\n",
              "<style scoped>\n",
              "    .dataframe tbody tr th:only-of-type {\n",
              "        vertical-align: middle;\n",
              "    }\n",
              "\n",
              "    .dataframe tbody tr th {\n",
              "        vertical-align: top;\n",
              "    }\n",
              "\n",
              "    .dataframe thead th {\n",
              "        text-align: right;\n",
              "    }\n",
              "</style>\n",
              "<table border=\"1\" class=\"dataframe\">\n",
              "  <thead>\n",
              "    <tr style=\"text-align: right;\">\n",
              "      <th></th>\n",
              "      <th>Starts with 'C'</th>\n",
              "      <th>Do not starts with 'C'</th>\n",
              "    </tr>\n",
              "  </thead>\n",
              "  <tbody>\n",
              "    <tr>\n",
              "      <th>Quantity &gt; 0</th>\n",
              "      <td>0</td>\n",
              "      <td>397924</td>\n",
              "    </tr>\n",
              "    <tr>\n",
              "      <th>Quantity &lt;= 0</th>\n",
              "      <td>8905</td>\n",
              "      <td>0</td>\n",
              "    </tr>\n",
              "  </tbody>\n",
              "</table>\n",
              "</div>"
            ],
            "text/plain": [
              "               Starts with 'C'  Do not starts with 'C'\n",
              "Quantity > 0                 0                  397924\n",
              "Quantity <= 0             8905                       0"
            ]
          },
          "metadata": {
            "tags": []
          },
          "execution_count": 9
        }
      ]
    },
    {
      "cell_type": "markdown",
      "metadata": {
        "id": "QPQ9Fm795AKj"
      },
      "source": [
        "`CustomerID`가 Null인 경우(df_null)은 이 조건을 만족하지 않는다. 즉, 'C'로 시작하지 않는데 Quantity가 음수인 것이 1,336건이 있다."
      ]
    },
    {
      "cell_type": "code",
      "metadata": {
        "colab": {
          "base_uri": "https://localhost:8080/",
          "height": 112
        },
        "id": "CJnQOu7Qrdjl",
        "outputId": "77ce523f-51d2-4064-aac9-4f2215b5c583"
      },
      "source": [
        "pd.DataFrame(\n",
        "    index=['Quantity > 0', 'Quantity <= 0'], \n",
        "    columns=[\"Starts with 'C'\", \"Do not starts with 'C'\"],\n",
        "    data=[\n",
        "          [len(df_null[(df_null['Quantity'] > 0) & (df_null['InvoiceNo'].str.startswith('C'))]), len(df_null[(df_null['Quantity'] > 0) & (~df_null['InvoiceNo'].str.startswith('C'))])],\n",
        "          [len(df_null[(df_null['Quantity'] <= 0) & (df_null['InvoiceNo'].str.startswith('C'))]), len(df_null[(df_null['Quantity'] <= 0) & (~df_null['InvoiceNo'].str.startswith('C'))])]\n",
        "          ]\n",
        "    )"
      ],
      "execution_count": null,
      "outputs": [
        {
          "output_type": "execute_result",
          "data": {
            "text/html": [
              "<div>\n",
              "<style scoped>\n",
              "    .dataframe tbody tr th:only-of-type {\n",
              "        vertical-align: middle;\n",
              "    }\n",
              "\n",
              "    .dataframe tbody tr th {\n",
              "        vertical-align: top;\n",
              "    }\n",
              "\n",
              "    .dataframe thead th {\n",
              "        text-align: right;\n",
              "    }\n",
              "</style>\n",
              "<table border=\"1\" class=\"dataframe\">\n",
              "  <thead>\n",
              "    <tr style=\"text-align: right;\">\n",
              "      <th></th>\n",
              "      <th>Starts with 'C'</th>\n",
              "      <th>Do not starts with 'C'</th>\n",
              "    </tr>\n",
              "  </thead>\n",
              "  <tbody>\n",
              "    <tr>\n",
              "      <th>Quantity &gt; 0</th>\n",
              "      <td>0</td>\n",
              "      <td>133361</td>\n",
              "    </tr>\n",
              "    <tr>\n",
              "      <th>Quantity &lt;= 0</th>\n",
              "      <td>383</td>\n",
              "      <td>1336</td>\n",
              "    </tr>\n",
              "  </tbody>\n",
              "</table>\n",
              "</div>"
            ],
            "text/plain": [
              "               Starts with 'C'  Do not starts with 'C'\n",
              "Quantity > 0                 0                  133361\n",
              "Quantity <= 0              383                    1336"
            ]
          },
          "metadata": {
            "tags": []
          },
          "execution_count": 10
        }
      ]
    },
    {
      "cell_type": "markdown",
      "metadata": {
        "id": "kBECjL1mtnlJ"
      },
      "source": [
        "이 경우를 조금 더 분석해보자. 자주 볼 수 있는 `Description`은 다음과 같다."
      ]
    },
    {
      "cell_type": "code",
      "metadata": {
        "colab": {
          "base_uri": "https://localhost:8080/",
          "height": 362
        },
        "id": "AkMR1TXgr2ue",
        "outputId": "97502899-9211-41db-f0dc-b11bfdb1166d"
      },
      "source": [
        "tmp = df_null[(df_null['Quantity'] <= 0) & (~df_null['InvoiceNo'].str.startswith('C'))]\n",
        "tmp['Description'].value_counts().head(10).to_frame()"
      ],
      "execution_count": null,
      "outputs": [
        {
          "output_type": "execute_result",
          "data": {
            "text/html": [
              "<div>\n",
              "<style scoped>\n",
              "    .dataframe tbody tr th:only-of-type {\n",
              "        vertical-align: middle;\n",
              "    }\n",
              "\n",
              "    .dataframe tbody tr th {\n",
              "        vertical-align: top;\n",
              "    }\n",
              "\n",
              "    .dataframe thead th {\n",
              "        text-align: right;\n",
              "    }\n",
              "</style>\n",
              "<table border=\"1\" class=\"dataframe\">\n",
              "  <thead>\n",
              "    <tr style=\"text-align: right;\">\n",
              "      <th></th>\n",
              "      <th>Description</th>\n",
              "    </tr>\n",
              "  </thead>\n",
              "  <tbody>\n",
              "    <tr>\n",
              "      <th>check</th>\n",
              "      <td>120</td>\n",
              "    </tr>\n",
              "    <tr>\n",
              "      <th>damages</th>\n",
              "      <td>45</td>\n",
              "    </tr>\n",
              "    <tr>\n",
              "      <th>damaged</th>\n",
              "      <td>42</td>\n",
              "    </tr>\n",
              "    <tr>\n",
              "      <th>?</th>\n",
              "      <td>41</td>\n",
              "    </tr>\n",
              "    <tr>\n",
              "      <th>sold as set on dotcom</th>\n",
              "      <td>20</td>\n",
              "    </tr>\n",
              "    <tr>\n",
              "      <th>Damaged</th>\n",
              "      <td>14</td>\n",
              "    </tr>\n",
              "    <tr>\n",
              "      <th>Unsaleable, destroyed.</th>\n",
              "      <td>9</td>\n",
              "    </tr>\n",
              "    <tr>\n",
              "      <th>thrown away</th>\n",
              "      <td>9</td>\n",
              "    </tr>\n",
              "    <tr>\n",
              "      <th>??</th>\n",
              "      <td>7</td>\n",
              "    </tr>\n",
              "    <tr>\n",
              "      <th>wet damaged</th>\n",
              "      <td>5</td>\n",
              "    </tr>\n",
              "  </tbody>\n",
              "</table>\n",
              "</div>"
            ],
            "text/plain": [
              "                        Description\n",
              "check                           120\n",
              "damages                          45\n",
              "damaged                          42\n",
              "?                                41\n",
              "sold as set on dotcom            20\n",
              "Damaged                          14\n",
              "Unsaleable, destroyed.            9\n",
              "thrown away                       9\n",
              "??                                7\n",
              "wet damaged                       5"
            ]
          },
          "metadata": {
            "tags": []
          },
          "execution_count": 11
        }
      ]
    },
    {
      "cell_type": "markdown",
      "metadata": {
        "id": "fWHnAiiS_qw1"
      },
      "source": [
        "상품이 부서지거나, 도난당하거나, 없어지면 `Quantity`를 음수로 & `CustomerID`를 null 설정하는데, 재고관리를 하기 위함으로 보인다."
      ]
    },
    {
      "cell_type": "markdown",
      "metadata": {
        "id": "NeQ-VSkNquhX"
      },
      "source": [
        "## UnitPrice"
      ]
    },
    {
      "cell_type": "markdown",
      "metadata": {
        "id": "ZQoveufgUgip"
      },
      "source": [
        "`UnitPrice`가 음수인 것이 있는지 확인"
      ]
    },
    {
      "cell_type": "code",
      "metadata": {
        "colab": {
          "base_uri": "https://localhost:8080/",
          "height": 49
        },
        "id": "eGX_ZZPFZtxZ",
        "outputId": "5f887bcf-c147-4401-e555-4e26caf27c09"
      },
      "source": [
        "df[df['UnitPrice'] < 0]"
      ],
      "execution_count": null,
      "outputs": [
        {
          "output_type": "execute_result",
          "data": {
            "text/html": [
              "<div>\n",
              "<style scoped>\n",
              "    .dataframe tbody tr th:only-of-type {\n",
              "        vertical-align: middle;\n",
              "    }\n",
              "\n",
              "    .dataframe tbody tr th {\n",
              "        vertical-align: top;\n",
              "    }\n",
              "\n",
              "    .dataframe thead th {\n",
              "        text-align: right;\n",
              "    }\n",
              "</style>\n",
              "<table border=\"1\" class=\"dataframe\">\n",
              "  <thead>\n",
              "    <tr style=\"text-align: right;\">\n",
              "      <th></th>\n",
              "      <th>InvoiceNo</th>\n",
              "      <th>StockCode</th>\n",
              "      <th>Description</th>\n",
              "      <th>Quantity</th>\n",
              "      <th>InvoiceDate</th>\n",
              "      <th>UnitPrice</th>\n",
              "      <th>CustomerID</th>\n",
              "      <th>Country</th>\n",
              "    </tr>\n",
              "  </thead>\n",
              "  <tbody>\n",
              "  </tbody>\n",
              "</table>\n",
              "</div>"
            ],
            "text/plain": [
              "Empty DataFrame\n",
              "Columns: [InvoiceNo, StockCode, Description, Quantity, InvoiceDate, UnitPrice, CustomerID, Country]\n",
              "Index: []"
            ]
          },
          "metadata": {
            "tags": []
          },
          "execution_count": 12
        }
      ]
    },
    {
      "cell_type": "markdown",
      "metadata": {
        "id": "jWd5LUBudq7e"
      },
      "source": [
        "describe 함수를 통해 `UnitPrice`가 음수인 트랜잭션이 있다는 것을 확인했는데, 여기는 없다. `CustomerID`가 null인 경우에 포함될 것이라고 추측해볼 수 있다."
      ]
    },
    {
      "cell_type": "code",
      "metadata": {
        "colab": {
          "base_uri": "https://localhost:8080/",
          "height": 112
        },
        "id": "gLO25SpEc_xJ",
        "outputId": "84c6ea7b-e5c5-44a5-95ef-8b6d271ca4f3"
      },
      "source": [
        "df_null[df_null['UnitPrice'] < 0]"
      ],
      "execution_count": null,
      "outputs": [
        {
          "output_type": "execute_result",
          "data": {
            "text/html": [
              "<div>\n",
              "<style scoped>\n",
              "    .dataframe tbody tr th:only-of-type {\n",
              "        vertical-align: middle;\n",
              "    }\n",
              "\n",
              "    .dataframe tbody tr th {\n",
              "        vertical-align: top;\n",
              "    }\n",
              "\n",
              "    .dataframe thead th {\n",
              "        text-align: right;\n",
              "    }\n",
              "</style>\n",
              "<table border=\"1\" class=\"dataframe\">\n",
              "  <thead>\n",
              "    <tr style=\"text-align: right;\">\n",
              "      <th></th>\n",
              "      <th>InvoiceNo</th>\n",
              "      <th>StockCode</th>\n",
              "      <th>Description</th>\n",
              "      <th>Quantity</th>\n",
              "      <th>InvoiceDate</th>\n",
              "      <th>UnitPrice</th>\n",
              "      <th>CustomerID</th>\n",
              "      <th>Country</th>\n",
              "    </tr>\n",
              "  </thead>\n",
              "  <tbody>\n",
              "    <tr>\n",
              "      <th>299983</th>\n",
              "      <td>A563186</td>\n",
              "      <td>B</td>\n",
              "      <td>Adjust bad debt</td>\n",
              "      <td>1</td>\n",
              "      <td>2011-08-12 14:51:00</td>\n",
              "      <td>-11062.06</td>\n",
              "      <td>NaN</td>\n",
              "      <td>United Kingdom</td>\n",
              "    </tr>\n",
              "    <tr>\n",
              "      <th>299984</th>\n",
              "      <td>A563187</td>\n",
              "      <td>B</td>\n",
              "      <td>Adjust bad debt</td>\n",
              "      <td>1</td>\n",
              "      <td>2011-08-12 14:52:00</td>\n",
              "      <td>-11062.06</td>\n",
              "      <td>NaN</td>\n",
              "      <td>United Kingdom</td>\n",
              "    </tr>\n",
              "  </tbody>\n",
              "</table>\n",
              "</div>"
            ],
            "text/plain": [
              "       InvoiceNo StockCode  ... CustomerID         Country\n",
              "299983   A563186         B  ...        NaN  United Kingdom\n",
              "299984   A563187         B  ...        NaN  United Kingdom\n",
              "\n",
              "[2 rows x 8 columns]"
            ]
          },
          "metadata": {
            "tags": []
          },
          "execution_count": 13
        }
      ]
    },
    {
      "cell_type": "markdown",
      "metadata": {
        "id": "VTItJWtaeFnk"
      },
      "source": [
        "`UnitPrice`이 0인 상품도 있다.\n",
        "\n",
        "`UnitPrice`이 0인 상품을 판매하는 데에는 다음과 같은 이유가 있을 수 있다.\n",
        "1. '특정 상품을 몇 개 이상 구매', '특정 시즌에 얼마 이상의 돈을 쓴다'는 등 특수한 조건을 만족하여 무료로 제공\n",
        "2. 데이터 오류\n",
        "\n",
        "아래는 `UnitPrice`가 0인 트랜잭션의 목록이다. 트랜잭션의 수가 적은 것으로 보아 1번의 경우라기 보다는 2번의 이유 때문에 `UnitPrice`가 0인 것이 생긴 것으로 보인다."
      ]
    },
    {
      "cell_type": "code",
      "metadata": {
        "colab": {
          "base_uri": "https://localhost:8080/",
          "height": 1000
        },
        "id": "DCA3eM4yeA6Q",
        "outputId": "d19f304b-7b0f-4080-9c00-b5fa61e0db5c"
      },
      "source": [
        "df[df['UnitPrice'] == 0.0]"
      ],
      "execution_count": null,
      "outputs": [
        {
          "output_type": "execute_result",
          "data": {
            "text/html": [
              "<div>\n",
              "<style scoped>\n",
              "    .dataframe tbody tr th:only-of-type {\n",
              "        vertical-align: middle;\n",
              "    }\n",
              "\n",
              "    .dataframe tbody tr th {\n",
              "        vertical-align: top;\n",
              "    }\n",
              "\n",
              "    .dataframe thead th {\n",
              "        text-align: right;\n",
              "    }\n",
              "</style>\n",
              "<table border=\"1\" class=\"dataframe\">\n",
              "  <thead>\n",
              "    <tr style=\"text-align: right;\">\n",
              "      <th></th>\n",
              "      <th>InvoiceNo</th>\n",
              "      <th>StockCode</th>\n",
              "      <th>Description</th>\n",
              "      <th>Quantity</th>\n",
              "      <th>InvoiceDate</th>\n",
              "      <th>UnitPrice</th>\n",
              "      <th>CustomerID</th>\n",
              "      <th>Country</th>\n",
              "    </tr>\n",
              "  </thead>\n",
              "  <tbody>\n",
              "    <tr>\n",
              "      <th>9302</th>\n",
              "      <td>537197</td>\n",
              "      <td>22841</td>\n",
              "      <td>ROUND CAKE TIN VINTAGE GREEN</td>\n",
              "      <td>1</td>\n",
              "      <td>2010-12-05 14:02:00</td>\n",
              "      <td>0.0</td>\n",
              "      <td>12647</td>\n",
              "      <td>Germany</td>\n",
              "    </tr>\n",
              "    <tr>\n",
              "      <th>33576</th>\n",
              "      <td>539263</td>\n",
              "      <td>22580</td>\n",
              "      <td>ADVENT CALENDAR GINGHAM SACK</td>\n",
              "      <td>4</td>\n",
              "      <td>2010-12-16 14:36:00</td>\n",
              "      <td>0.0</td>\n",
              "      <td>16560</td>\n",
              "      <td>United Kingdom</td>\n",
              "    </tr>\n",
              "    <tr>\n",
              "      <th>40089</th>\n",
              "      <td>539722</td>\n",
              "      <td>22423</td>\n",
              "      <td>REGENCY CAKESTAND 3 TIER</td>\n",
              "      <td>10</td>\n",
              "      <td>2010-12-21 13:45:00</td>\n",
              "      <td>0.0</td>\n",
              "      <td>14911</td>\n",
              "      <td>EIRE</td>\n",
              "    </tr>\n",
              "    <tr>\n",
              "      <th>47068</th>\n",
              "      <td>540372</td>\n",
              "      <td>22090</td>\n",
              "      <td>PAPER BUNTING RETROSPOT</td>\n",
              "      <td>24</td>\n",
              "      <td>2011-01-06 16:41:00</td>\n",
              "      <td>0.0</td>\n",
              "      <td>13081</td>\n",
              "      <td>United Kingdom</td>\n",
              "    </tr>\n",
              "    <tr>\n",
              "      <th>47070</th>\n",
              "      <td>540372</td>\n",
              "      <td>22553</td>\n",
              "      <td>PLASTERS IN TIN SKULLS</td>\n",
              "      <td>24</td>\n",
              "      <td>2011-01-06 16:41:00</td>\n",
              "      <td>0.0</td>\n",
              "      <td>13081</td>\n",
              "      <td>United Kingdom</td>\n",
              "    </tr>\n",
              "    <tr>\n",
              "      <th>56674</th>\n",
              "      <td>541109</td>\n",
              "      <td>22168</td>\n",
              "      <td>ORGANISER WOOD ANTIQUE WHITE</td>\n",
              "      <td>1</td>\n",
              "      <td>2011-01-13 15:10:00</td>\n",
              "      <td>0.0</td>\n",
              "      <td>15107</td>\n",
              "      <td>United Kingdom</td>\n",
              "    </tr>\n",
              "    <tr>\n",
              "      <th>86789</th>\n",
              "      <td>543599</td>\n",
              "      <td>84535B</td>\n",
              "      <td>FAIRY CAKES NOTEBOOK A6 SIZE</td>\n",
              "      <td>16</td>\n",
              "      <td>2011-02-10 13:08:00</td>\n",
              "      <td>0.0</td>\n",
              "      <td>17560</td>\n",
              "      <td>United Kingdom</td>\n",
              "    </tr>\n",
              "    <tr>\n",
              "      <th>130188</th>\n",
              "      <td>547417</td>\n",
              "      <td>22062</td>\n",
              "      <td>CERAMIC BOWL WITH LOVE HEART DESIGN</td>\n",
              "      <td>36</td>\n",
              "      <td>2011-03-23 10:25:00</td>\n",
              "      <td>0.0</td>\n",
              "      <td>13239</td>\n",
              "      <td>United Kingdom</td>\n",
              "    </tr>\n",
              "    <tr>\n",
              "      <th>139453</th>\n",
              "      <td>548318</td>\n",
              "      <td>22055</td>\n",
              "      <td>MINI CAKE STAND  HANGING STRAWBERY</td>\n",
              "      <td>5</td>\n",
              "      <td>2011-03-30 12:45:00</td>\n",
              "      <td>0.0</td>\n",
              "      <td>13113</td>\n",
              "      <td>United Kingdom</td>\n",
              "    </tr>\n",
              "    <tr>\n",
              "      <th>145208</th>\n",
              "      <td>548871</td>\n",
              "      <td>22162</td>\n",
              "      <td>HEART GARLAND RUSTIC PADDED</td>\n",
              "      <td>2</td>\n",
              "      <td>2011-04-04 14:42:00</td>\n",
              "      <td>0.0</td>\n",
              "      <td>14410</td>\n",
              "      <td>United Kingdom</td>\n",
              "    </tr>\n",
              "    <tr>\n",
              "      <th>157042</th>\n",
              "      <td>550188</td>\n",
              "      <td>22636</td>\n",
              "      <td>CHILDS BREAKFAST SET CIRCUS PARADE</td>\n",
              "      <td>1</td>\n",
              "      <td>2011-04-14 18:57:00</td>\n",
              "      <td>0.0</td>\n",
              "      <td>12457</td>\n",
              "      <td>Switzerland</td>\n",
              "    </tr>\n",
              "    <tr>\n",
              "      <th>187613</th>\n",
              "      <td>553000</td>\n",
              "      <td>47566</td>\n",
              "      <td>PARTY BUNTING</td>\n",
              "      <td>4</td>\n",
              "      <td>2011-05-12 15:21:00</td>\n",
              "      <td>0.0</td>\n",
              "      <td>17667</td>\n",
              "      <td>United Kingdom</td>\n",
              "    </tr>\n",
              "    <tr>\n",
              "      <th>198383</th>\n",
              "      <td>554037</td>\n",
              "      <td>22619</td>\n",
              "      <td>SET OF 6 SOLDIER SKITTLES</td>\n",
              "      <td>80</td>\n",
              "      <td>2011-05-20 14:13:00</td>\n",
              "      <td>0.0</td>\n",
              "      <td>12415</td>\n",
              "      <td>Australia</td>\n",
              "    </tr>\n",
              "    <tr>\n",
              "      <th>279324</th>\n",
              "      <td>561284</td>\n",
              "      <td>22167</td>\n",
              "      <td>OVAL WALL MIRROR DIAMANTE</td>\n",
              "      <td>1</td>\n",
              "      <td>2011-07-26 12:24:00</td>\n",
              "      <td>0.0</td>\n",
              "      <td>16818</td>\n",
              "      <td>United Kingdom</td>\n",
              "    </tr>\n",
              "    <tr>\n",
              "      <th>282912</th>\n",
              "      <td>561669</td>\n",
              "      <td>22960</td>\n",
              "      <td>JAM MAKING SET WITH JARS</td>\n",
              "      <td>11</td>\n",
              "      <td>2011-07-28 17:09:00</td>\n",
              "      <td>0.0</td>\n",
              "      <td>12507</td>\n",
              "      <td>Spain</td>\n",
              "    </tr>\n",
              "    <tr>\n",
              "      <th>285657</th>\n",
              "      <td>561916</td>\n",
              "      <td>M</td>\n",
              "      <td>Manual</td>\n",
              "      <td>1</td>\n",
              "      <td>2011-08-01 11:44:00</td>\n",
              "      <td>0.0</td>\n",
              "      <td>15581</td>\n",
              "      <td>United Kingdom</td>\n",
              "    </tr>\n",
              "    <tr>\n",
              "      <th>298054</th>\n",
              "      <td>562973</td>\n",
              "      <td>23157</td>\n",
              "      <td>SET OF 6 NATIVITY MAGNETS</td>\n",
              "      <td>240</td>\n",
              "      <td>2011-08-11 11:42:00</td>\n",
              "      <td>0.0</td>\n",
              "      <td>14911</td>\n",
              "      <td>EIRE</td>\n",
              "    </tr>\n",
              "    <tr>\n",
              "      <th>314745</th>\n",
              "      <td>564651</td>\n",
              "      <td>23270</td>\n",
              "      <td>SET OF 2 CERAMIC PAINTED HEARTS</td>\n",
              "      <td>96</td>\n",
              "      <td>2011-08-26 14:19:00</td>\n",
              "      <td>0.0</td>\n",
              "      <td>14646</td>\n",
              "      <td>Netherlands</td>\n",
              "    </tr>\n",
              "    <tr>\n",
              "      <th>314746</th>\n",
              "      <td>564651</td>\n",
              "      <td>23268</td>\n",
              "      <td>SET OF 2 CERAMIC CHRISTMAS REINDEER</td>\n",
              "      <td>192</td>\n",
              "      <td>2011-08-26 14:19:00</td>\n",
              "      <td>0.0</td>\n",
              "      <td>14646</td>\n",
              "      <td>Netherlands</td>\n",
              "    </tr>\n",
              "    <tr>\n",
              "      <th>314747</th>\n",
              "      <td>564651</td>\n",
              "      <td>22955</td>\n",
              "      <td>36 FOIL STAR CAKE CASES</td>\n",
              "      <td>144</td>\n",
              "      <td>2011-08-26 14:19:00</td>\n",
              "      <td>0.0</td>\n",
              "      <td>14646</td>\n",
              "      <td>Netherlands</td>\n",
              "    </tr>\n",
              "    <tr>\n",
              "      <th>314748</th>\n",
              "      <td>564651</td>\n",
              "      <td>21786</td>\n",
              "      <td>POLKADOT RAIN HAT</td>\n",
              "      <td>144</td>\n",
              "      <td>2011-08-26 14:19:00</td>\n",
              "      <td>0.0</td>\n",
              "      <td>14646</td>\n",
              "      <td>Netherlands</td>\n",
              "    </tr>\n",
              "    <tr>\n",
              "      <th>358655</th>\n",
              "      <td>568158</td>\n",
              "      <td>PADS</td>\n",
              "      <td>PADS TO MATCH ALL CUSHIONS</td>\n",
              "      <td>1</td>\n",
              "      <td>2011-09-25 12:22:00</td>\n",
              "      <td>0.0</td>\n",
              "      <td>16133</td>\n",
              "      <td>United Kingdom</td>\n",
              "    </tr>\n",
              "    <tr>\n",
              "      <th>361825</th>\n",
              "      <td>568384</td>\n",
              "      <td>M</td>\n",
              "      <td>Manual</td>\n",
              "      <td>1</td>\n",
              "      <td>2011-09-27 09:46:00</td>\n",
              "      <td>0.0</td>\n",
              "      <td>12748</td>\n",
              "      <td>United Kingdom</td>\n",
              "    </tr>\n",
              "    <tr>\n",
              "      <th>379913</th>\n",
              "      <td>569716</td>\n",
              "      <td>22778</td>\n",
              "      <td>GLASS CLOCHE SMALL</td>\n",
              "      <td>2</td>\n",
              "      <td>2011-10-06 08:17:00</td>\n",
              "      <td>0.0</td>\n",
              "      <td>15804</td>\n",
              "      <td>United Kingdom</td>\n",
              "    </tr>\n",
              "    <tr>\n",
              "      <th>395529</th>\n",
              "      <td>571035</td>\n",
              "      <td>M</td>\n",
              "      <td>Manual</td>\n",
              "      <td>1</td>\n",
              "      <td>2011-10-13 12:50:00</td>\n",
              "      <td>0.0</td>\n",
              "      <td>12446</td>\n",
              "      <td>RSA</td>\n",
              "    </tr>\n",
              "    <tr>\n",
              "      <th>420404</th>\n",
              "      <td>572893</td>\n",
              "      <td>21208</td>\n",
              "      <td>PASTEL COLOUR HONEYCOMB FAN</td>\n",
              "      <td>5</td>\n",
              "      <td>2011-10-26 14:36:00</td>\n",
              "      <td>0.0</td>\n",
              "      <td>18059</td>\n",
              "      <td>United Kingdom</td>\n",
              "    </tr>\n",
              "    <tr>\n",
              "      <th>436428</th>\n",
              "      <td>574138</td>\n",
              "      <td>23234</td>\n",
              "      <td>BISCUIT TIN VINTAGE CHRISTMAS</td>\n",
              "      <td>216</td>\n",
              "      <td>2011-11-03 11:26:00</td>\n",
              "      <td>0.0</td>\n",
              "      <td>12415</td>\n",
              "      <td>Australia</td>\n",
              "    </tr>\n",
              "    <tr>\n",
              "      <th>436597</th>\n",
              "      <td>574175</td>\n",
              "      <td>22065</td>\n",
              "      <td>CHRISTMAS PUDDING TRINKET POT</td>\n",
              "      <td>12</td>\n",
              "      <td>2011-11-03 11:47:00</td>\n",
              "      <td>0.0</td>\n",
              "      <td>14110</td>\n",
              "      <td>United Kingdom</td>\n",
              "    </tr>\n",
              "    <tr>\n",
              "      <th>436961</th>\n",
              "      <td>574252</td>\n",
              "      <td>M</td>\n",
              "      <td>Manual</td>\n",
              "      <td>1</td>\n",
              "      <td>2011-11-03 13:24:00</td>\n",
              "      <td>0.0</td>\n",
              "      <td>12437</td>\n",
              "      <td>France</td>\n",
              "    </tr>\n",
              "    <tr>\n",
              "      <th>439361</th>\n",
              "      <td>574469</td>\n",
              "      <td>22385</td>\n",
              "      <td>JUMBO BAG SPACEBOY DESIGN</td>\n",
              "      <td>12</td>\n",
              "      <td>2011-11-04 11:55:00</td>\n",
              "      <td>0.0</td>\n",
              "      <td>12431</td>\n",
              "      <td>Australia</td>\n",
              "    </tr>\n",
              "    <tr>\n",
              "      <th>446125</th>\n",
              "      <td>574879</td>\n",
              "      <td>22625</td>\n",
              "      <td>RED KITCHEN SCALES</td>\n",
              "      <td>2</td>\n",
              "      <td>2011-11-07 13:22:00</td>\n",
              "      <td>0.0</td>\n",
              "      <td>13014</td>\n",
              "      <td>United Kingdom</td>\n",
              "    </tr>\n",
              "    <tr>\n",
              "      <th>446793</th>\n",
              "      <td>574920</td>\n",
              "      <td>22899</td>\n",
              "      <td>CHILDREN'S APRON DOLLY GIRL</td>\n",
              "      <td>1</td>\n",
              "      <td>2011-11-07 16:34:00</td>\n",
              "      <td>0.0</td>\n",
              "      <td>13985</td>\n",
              "      <td>United Kingdom</td>\n",
              "    </tr>\n",
              "    <tr>\n",
              "      <th>446794</th>\n",
              "      <td>574920</td>\n",
              "      <td>23480</td>\n",
              "      <td>MINI LIGHTS WOODLAND MUSHROOMS</td>\n",
              "      <td>1</td>\n",
              "      <td>2011-11-07 16:34:00</td>\n",
              "      <td>0.0</td>\n",
              "      <td>13985</td>\n",
              "      <td>United Kingdom</td>\n",
              "    </tr>\n",
              "    <tr>\n",
              "      <th>454463</th>\n",
              "      <td>575579</td>\n",
              "      <td>22437</td>\n",
              "      <td>SET OF 9 BLACK SKULL BALLOONS</td>\n",
              "      <td>20</td>\n",
              "      <td>2011-11-10 11:49:00</td>\n",
              "      <td>0.0</td>\n",
              "      <td>13081</td>\n",
              "      <td>United Kingdom</td>\n",
              "    </tr>\n",
              "    <tr>\n",
              "      <th>454464</th>\n",
              "      <td>575579</td>\n",
              "      <td>22089</td>\n",
              "      <td>PAPER BUNTING VINTAGE PAISLEY</td>\n",
              "      <td>24</td>\n",
              "      <td>2011-11-10 11:49:00</td>\n",
              "      <td>0.0</td>\n",
              "      <td>13081</td>\n",
              "      <td>United Kingdom</td>\n",
              "    </tr>\n",
              "    <tr>\n",
              "      <th>479079</th>\n",
              "      <td>577129</td>\n",
              "      <td>22464</td>\n",
              "      <td>HANGING METAL HEART LANTERN</td>\n",
              "      <td>4</td>\n",
              "      <td>2011-11-17 19:52:00</td>\n",
              "      <td>0.0</td>\n",
              "      <td>15602</td>\n",
              "      <td>United Kingdom</td>\n",
              "    </tr>\n",
              "    <tr>\n",
              "      <th>479546</th>\n",
              "      <td>577168</td>\n",
              "      <td>M</td>\n",
              "      <td>Manual</td>\n",
              "      <td>1</td>\n",
              "      <td>2011-11-18 10:42:00</td>\n",
              "      <td>0.0</td>\n",
              "      <td>12603</td>\n",
              "      <td>Germany</td>\n",
              "    </tr>\n",
              "    <tr>\n",
              "      <th>480649</th>\n",
              "      <td>577314</td>\n",
              "      <td>23407</td>\n",
              "      <td>SET OF 2 TRAYS HOME SWEET HOME</td>\n",
              "      <td>2</td>\n",
              "      <td>2011-11-18 13:23:00</td>\n",
              "      <td>0.0</td>\n",
              "      <td>12444</td>\n",
              "      <td>Norway</td>\n",
              "    </tr>\n",
              "    <tr>\n",
              "      <th>485985</th>\n",
              "      <td>577696</td>\n",
              "      <td>M</td>\n",
              "      <td>Manual</td>\n",
              "      <td>1</td>\n",
              "      <td>2011-11-21 11:57:00</td>\n",
              "      <td>0.0</td>\n",
              "      <td>16406</td>\n",
              "      <td>United Kingdom</td>\n",
              "    </tr>\n",
              "    <tr>\n",
              "      <th>502122</th>\n",
              "      <td>578841</td>\n",
              "      <td>84826</td>\n",
              "      <td>ASSTD DESIGN 3D PAPER STICKERS</td>\n",
              "      <td>12540</td>\n",
              "      <td>2011-11-25 15:57:00</td>\n",
              "      <td>0.0</td>\n",
              "      <td>13256</td>\n",
              "      <td>United Kingdom</td>\n",
              "    </tr>\n",
              "  </tbody>\n",
              "</table>\n",
              "</div>"
            ],
            "text/plain": [
              "       InvoiceNo StockCode  ... CustomerID         Country\n",
              "9302      537197     22841  ...      12647         Germany\n",
              "33576     539263     22580  ...      16560  United Kingdom\n",
              "40089     539722     22423  ...      14911            EIRE\n",
              "47068     540372     22090  ...      13081  United Kingdom\n",
              "47070     540372     22553  ...      13081  United Kingdom\n",
              "56674     541109     22168  ...      15107  United Kingdom\n",
              "86789     543599    84535B  ...      17560  United Kingdom\n",
              "130188    547417     22062  ...      13239  United Kingdom\n",
              "139453    548318     22055  ...      13113  United Kingdom\n",
              "145208    548871     22162  ...      14410  United Kingdom\n",
              "157042    550188     22636  ...      12457     Switzerland\n",
              "187613    553000     47566  ...      17667  United Kingdom\n",
              "198383    554037     22619  ...      12415       Australia\n",
              "279324    561284     22167  ...      16818  United Kingdom\n",
              "282912    561669     22960  ...      12507           Spain\n",
              "285657    561916         M  ...      15581  United Kingdom\n",
              "298054    562973     23157  ...      14911            EIRE\n",
              "314745    564651     23270  ...      14646     Netherlands\n",
              "314746    564651     23268  ...      14646     Netherlands\n",
              "314747    564651     22955  ...      14646     Netherlands\n",
              "314748    564651     21786  ...      14646     Netherlands\n",
              "358655    568158      PADS  ...      16133  United Kingdom\n",
              "361825    568384         M  ...      12748  United Kingdom\n",
              "379913    569716     22778  ...      15804  United Kingdom\n",
              "395529    571035         M  ...      12446             RSA\n",
              "420404    572893     21208  ...      18059  United Kingdom\n",
              "436428    574138     23234  ...      12415       Australia\n",
              "436597    574175     22065  ...      14110  United Kingdom\n",
              "436961    574252         M  ...      12437          France\n",
              "439361    574469     22385  ...      12431       Australia\n",
              "446125    574879     22625  ...      13014  United Kingdom\n",
              "446793    574920     22899  ...      13985  United Kingdom\n",
              "446794    574920     23480  ...      13985  United Kingdom\n",
              "454463    575579     22437  ...      13081  United Kingdom\n",
              "454464    575579     22089  ...      13081  United Kingdom\n",
              "479079    577129     22464  ...      15602  United Kingdom\n",
              "479546    577168         M  ...      12603         Germany\n",
              "480649    577314     23407  ...      12444          Norway\n",
              "485985    577696         M  ...      16406  United Kingdom\n",
              "502122    578841     84826  ...      13256  United Kingdom\n",
              "\n",
              "[40 rows x 8 columns]"
            ]
          },
          "metadata": {
            "tags": []
          },
          "execution_count": 14
        }
      ]
    },
    {
      "cell_type": "markdown",
      "metadata": {
        "id": "kFuldVDOq_jY"
      },
      "source": [
        "가격이 0인 상품은 항상 0원에 판매되었는지 확인"
      ]
    },
    {
      "cell_type": "code",
      "metadata": {
        "colab": {
          "base_uri": "https://localhost:8080/",
          "height": 1000
        },
        "id": "cMO76hGXrJU_",
        "outputId": "de225fd1-e7d1-453d-e7d4-acf3ef6cae7d"
      },
      "source": [
        "free_item = set(df[df['UnitPrice'] == 0.0]['StockCode'])\n",
        "\n",
        "df[df['StockCode'].isin(free_item)].groupby('StockCode')['UnitPrice'].unique().to_frame()"
      ],
      "execution_count": null,
      "outputs": [
        {
          "output_type": "execute_result",
          "data": {
            "text/html": [
              "<div>\n",
              "<style scoped>\n",
              "    .dataframe tbody tr th:only-of-type {\n",
              "        vertical-align: middle;\n",
              "    }\n",
              "\n",
              "    .dataframe tbody tr th {\n",
              "        vertical-align: top;\n",
              "    }\n",
              "\n",
              "    .dataframe thead th {\n",
              "        text-align: right;\n",
              "    }\n",
              "</style>\n",
              "<table border=\"1\" class=\"dataframe\">\n",
              "  <thead>\n",
              "    <tr style=\"text-align: right;\">\n",
              "      <th></th>\n",
              "      <th>UnitPrice</th>\n",
              "    </tr>\n",
              "    <tr>\n",
              "      <th>StockCode</th>\n",
              "      <th></th>\n",
              "    </tr>\n",
              "  </thead>\n",
              "  <tbody>\n",
              "    <tr>\n",
              "      <th>21208</th>\n",
              "      <td>[1.65, 1.45, 0.39, 0.0]</td>\n",
              "    </tr>\n",
              "    <tr>\n",
              "      <th>21786</th>\n",
              "      <td>[0.32, 0.42, 0.0, 0.83]</td>\n",
              "    </tr>\n",
              "    <tr>\n",
              "      <th>22055</th>\n",
              "      <td>[1.45, 1.65, 0.0, 0.39]</td>\n",
              "    </tr>\n",
              "    <tr>\n",
              "      <th>22062</th>\n",
              "      <td>[2.95, 0.83, 0.0]</td>\n",
              "    </tr>\n",
              "    <tr>\n",
              "      <th>22065</th>\n",
              "      <td>[1.45, 1.25, 0.39, 0.0]</td>\n",
              "    </tr>\n",
              "    <tr>\n",
              "      <th>22089</th>\n",
              "      <td>[2.95, 2.55, 0.0]</td>\n",
              "    </tr>\n",
              "    <tr>\n",
              "      <th>22090</th>\n",
              "      <td>[2.95, 2.55, 0.0, 5.79]</td>\n",
              "    </tr>\n",
              "    <tr>\n",
              "      <th>22162</th>\n",
              "      <td>[2.95, 0.0]</td>\n",
              "    </tr>\n",
              "    <tr>\n",
              "      <th>22167</th>\n",
              "      <td>[9.95, 3.95, 0.0]</td>\n",
              "    </tr>\n",
              "    <tr>\n",
              "      <th>22168</th>\n",
              "      <td>[8.5, 0.0, 7.65]</td>\n",
              "    </tr>\n",
              "    <tr>\n",
              "      <th>22385</th>\n",
              "      <td>[1.95, 1.65, 2.08, 1.79, 4.13, 0.0]</td>\n",
              "    </tr>\n",
              "    <tr>\n",
              "      <th>22423</th>\n",
              "      <td>[10.95, 12.75, 0.0, 4.0, 5.0, 24.96]</td>\n",
              "    </tr>\n",
              "    <tr>\n",
              "      <th>22437</th>\n",
              "      <td>[0.85, 0.72, 0.0]</td>\n",
              "    </tr>\n",
              "    <tr>\n",
              "      <th>22464</th>\n",
              "      <td>[1.65, 1.45, 3.29, 0.0, 0.79]</td>\n",
              "    </tr>\n",
              "    <tr>\n",
              "      <th>22553</th>\n",
              "      <td>[1.65, 0.0, 1.45]</td>\n",
              "    </tr>\n",
              "    <tr>\n",
              "      <th>22580</th>\n",
              "      <td>[5.95, 4.95, 0.0, 11.63]</td>\n",
              "    </tr>\n",
              "    <tr>\n",
              "      <th>22619</th>\n",
              "      <td>[3.75, 3.39, 0.0, 7.46]</td>\n",
              "    </tr>\n",
              "    <tr>\n",
              "      <th>22625</th>\n",
              "      <td>[8.5, 7.65, 6.25, 6.0, 7.5, 16.63, 0.0]</td>\n",
              "    </tr>\n",
              "    <tr>\n",
              "      <th>22636</th>\n",
              "      <td>[8.5, 7.65, 0.0]</td>\n",
              "    </tr>\n",
              "    <tr>\n",
              "      <th>22778</th>\n",
              "      <td>[3.95, 3.39, 0.0]</td>\n",
              "    </tr>\n",
              "    <tr>\n",
              "      <th>22841</th>\n",
              "      <td>[7.95, 0.0, 6.95, 5.49, 15.79]</td>\n",
              "    </tr>\n",
              "    <tr>\n",
              "      <th>22899</th>\n",
              "      <td>[2.1, 1.85, 4.13, 0.0]</td>\n",
              "    </tr>\n",
              "    <tr>\n",
              "      <th>22955</th>\n",
              "      <td>[2.1, 1.85, 0.0, 0.79]</td>\n",
              "    </tr>\n",
              "    <tr>\n",
              "      <th>22960</th>\n",
              "      <td>[4.25, 3.75, 2.96, 0.0, 4.6, 8.29, 2.95]</td>\n",
              "    </tr>\n",
              "    <tr>\n",
              "      <th>23157</th>\n",
              "      <td>[2.08, 1.85, 0.0, 4.13]</td>\n",
              "    </tr>\n",
              "    <tr>\n",
              "      <th>23234</th>\n",
              "      <td>[2.89, 2.49, 5.79, 0.0]</td>\n",
              "    </tr>\n",
              "    <tr>\n",
              "      <th>23268</th>\n",
              "      <td>[1.45, 1.25, 0.0, 2.92]</td>\n",
              "    </tr>\n",
              "    <tr>\n",
              "      <th>23270</th>\n",
              "      <td>[1.45, 1.25, 0.0]</td>\n",
              "    </tr>\n",
              "    <tr>\n",
              "      <th>23407</th>\n",
              "      <td>[9.95, 8.49, 0.0]</td>\n",
              "    </tr>\n",
              "    <tr>\n",
              "      <th>23480</th>\n",
              "      <td>[3.29, 3.75, 0.0]</td>\n",
              "    </tr>\n",
              "    <tr>\n",
              "      <th>47566</th>\n",
              "      <td>[4.65, 3.75, 4.15, 4.95, 0.0, 4.3, 10.79, 3.74]</td>\n",
              "    </tr>\n",
              "    <tr>\n",
              "      <th>84535B</th>\n",
              "      <td>[0.65, 0.0, 0.42, 1.46]</td>\n",
              "    </tr>\n",
              "    <tr>\n",
              "      <th>84826</th>\n",
              "      <td>[0.85, 0.21, 0.0, 0.19]</td>\n",
              "    </tr>\n",
              "    <tr>\n",
              "      <th>M</th>\n",
              "      <td>[1.25, 18.95, 0.85, 0.42, 0.65, 1.0, 0.19, 35....</td>\n",
              "    </tr>\n",
              "    <tr>\n",
              "      <th>PADS</th>\n",
              "      <td>[0.001, 0.0]</td>\n",
              "    </tr>\n",
              "  </tbody>\n",
              "</table>\n",
              "</div>"
            ],
            "text/plain": [
              "                                                   UnitPrice\n",
              "StockCode                                                   \n",
              "21208                                [1.65, 1.45, 0.39, 0.0]\n",
              "21786                                [0.32, 0.42, 0.0, 0.83]\n",
              "22055                                [1.45, 1.65, 0.0, 0.39]\n",
              "22062                                      [2.95, 0.83, 0.0]\n",
              "22065                                [1.45, 1.25, 0.39, 0.0]\n",
              "22089                                      [2.95, 2.55, 0.0]\n",
              "22090                                [2.95, 2.55, 0.0, 5.79]\n",
              "22162                                            [2.95, 0.0]\n",
              "22167                                      [9.95, 3.95, 0.0]\n",
              "22168                                       [8.5, 0.0, 7.65]\n",
              "22385                    [1.95, 1.65, 2.08, 1.79, 4.13, 0.0]\n",
              "22423                   [10.95, 12.75, 0.0, 4.0, 5.0, 24.96]\n",
              "22437                                      [0.85, 0.72, 0.0]\n",
              "22464                          [1.65, 1.45, 3.29, 0.0, 0.79]\n",
              "22553                                      [1.65, 0.0, 1.45]\n",
              "22580                               [5.95, 4.95, 0.0, 11.63]\n",
              "22619                                [3.75, 3.39, 0.0, 7.46]\n",
              "22625                [8.5, 7.65, 6.25, 6.0, 7.5, 16.63, 0.0]\n",
              "22636                                       [8.5, 7.65, 0.0]\n",
              "22778                                      [3.95, 3.39, 0.0]\n",
              "22841                         [7.95, 0.0, 6.95, 5.49, 15.79]\n",
              "22899                                 [2.1, 1.85, 4.13, 0.0]\n",
              "22955                                 [2.1, 1.85, 0.0, 0.79]\n",
              "22960               [4.25, 3.75, 2.96, 0.0, 4.6, 8.29, 2.95]\n",
              "23157                                [2.08, 1.85, 0.0, 4.13]\n",
              "23234                                [2.89, 2.49, 5.79, 0.0]\n",
              "23268                                [1.45, 1.25, 0.0, 2.92]\n",
              "23270                                      [1.45, 1.25, 0.0]\n",
              "23407                                      [9.95, 8.49, 0.0]\n",
              "23480                                      [3.29, 3.75, 0.0]\n",
              "47566        [4.65, 3.75, 4.15, 4.95, 0.0, 4.3, 10.79, 3.74]\n",
              "84535B                               [0.65, 0.0, 0.42, 1.46]\n",
              "84826                                [0.85, 0.21, 0.0, 0.19]\n",
              "M          [1.25, 18.95, 0.85, 0.42, 0.65, 1.0, 0.19, 35....\n",
              "PADS                                            [0.001, 0.0]"
            ]
          },
          "metadata": {
            "tags": []
          },
          "execution_count": 15
        }
      ]
    },
    {
      "cell_type": "markdown",
      "metadata": {
        "id": "IXJp8j7cxUUi"
      },
      "source": [
        "0원에 판매된 기록이 있는 상품이라고 항상 0원에 판매된 것은 아니었다. ( 한 번만 0원에 판매됨 )\n"
      ]
    },
    {
      "cell_type": "markdown",
      "metadata": {
        "id": "6cHuv01Gyiqs"
      },
      "source": [
        "## StockCode"
      ]
    },
    {
      "cell_type": "markdown",
      "metadata": {
        "id": "288gbc4xMw88"
      },
      "source": [
        "### StockCode에 'POST'와 같이 문자열로 이루어진 값은 무엇인가?"
      ]
    },
    {
      "cell_type": "code",
      "metadata": {
        "colab": {
          "base_uri": "https://localhost:8080/",
          "height": 205
        },
        "id": "BnL3hZgQjjJg",
        "outputId": "64b9d01f-f4d3-402e-8785-a520a6e41f40"
      },
      "source": [
        "df_with_str = df[df['StockCode'].str.isalpha()]\n",
        "df_with_str.head()"
      ],
      "execution_count": null,
      "outputs": [
        {
          "output_type": "execute_result",
          "data": {
            "text/html": [
              "<div>\n",
              "<style scoped>\n",
              "    .dataframe tbody tr th:only-of-type {\n",
              "        vertical-align: middle;\n",
              "    }\n",
              "\n",
              "    .dataframe tbody tr th {\n",
              "        vertical-align: top;\n",
              "    }\n",
              "\n",
              "    .dataframe thead th {\n",
              "        text-align: right;\n",
              "    }\n",
              "</style>\n",
              "<table border=\"1\" class=\"dataframe\">\n",
              "  <thead>\n",
              "    <tr style=\"text-align: right;\">\n",
              "      <th></th>\n",
              "      <th>InvoiceNo</th>\n",
              "      <th>StockCode</th>\n",
              "      <th>Description</th>\n",
              "      <th>Quantity</th>\n",
              "      <th>InvoiceDate</th>\n",
              "      <th>UnitPrice</th>\n",
              "      <th>CustomerID</th>\n",
              "      <th>Country</th>\n",
              "    </tr>\n",
              "  </thead>\n",
              "  <tbody>\n",
              "    <tr>\n",
              "      <th>45</th>\n",
              "      <td>536370</td>\n",
              "      <td>POST</td>\n",
              "      <td>POSTAGE</td>\n",
              "      <td>3</td>\n",
              "      <td>2010-12-01 08:45:00</td>\n",
              "      <td>18.00</td>\n",
              "      <td>12583</td>\n",
              "      <td>France</td>\n",
              "    </tr>\n",
              "    <tr>\n",
              "      <th>141</th>\n",
              "      <td>C536379</td>\n",
              "      <td>D</td>\n",
              "      <td>Discount</td>\n",
              "      <td>-1</td>\n",
              "      <td>2010-12-01 09:41:00</td>\n",
              "      <td>27.50</td>\n",
              "      <td>14527</td>\n",
              "      <td>United Kingdom</td>\n",
              "    </tr>\n",
              "    <tr>\n",
              "      <th>386</th>\n",
              "      <td>536403</td>\n",
              "      <td>POST</td>\n",
              "      <td>POSTAGE</td>\n",
              "      <td>1</td>\n",
              "      <td>2010-12-01 11:27:00</td>\n",
              "      <td>15.00</td>\n",
              "      <td>12791</td>\n",
              "      <td>Netherlands</td>\n",
              "    </tr>\n",
              "    <tr>\n",
              "      <th>1123</th>\n",
              "      <td>536527</td>\n",
              "      <td>POST</td>\n",
              "      <td>POSTAGE</td>\n",
              "      <td>1</td>\n",
              "      <td>2010-12-01 13:04:00</td>\n",
              "      <td>18.00</td>\n",
              "      <td>12662</td>\n",
              "      <td>Germany</td>\n",
              "    </tr>\n",
              "    <tr>\n",
              "      <th>2239</th>\n",
              "      <td>536569</td>\n",
              "      <td>M</td>\n",
              "      <td>Manual</td>\n",
              "      <td>1</td>\n",
              "      <td>2010-12-01 15:35:00</td>\n",
              "      <td>1.25</td>\n",
              "      <td>16274</td>\n",
              "      <td>United Kingdom</td>\n",
              "    </tr>\n",
              "  </tbody>\n",
              "</table>\n",
              "</div>"
            ],
            "text/plain": [
              "     InvoiceNo StockCode Description  ...  UnitPrice CustomerID         Country\n",
              "45      536370      POST     POSTAGE  ...      18.00      12583          France\n",
              "141    C536379         D    Discount  ...      27.50      14527  United Kingdom\n",
              "386     536403      POST     POSTAGE  ...      15.00      12791     Netherlands\n",
              "1123    536527      POST     POSTAGE  ...      18.00      12662         Germany\n",
              "2239    536569         M      Manual  ...       1.25      16274  United Kingdom\n",
              "\n",
              "[5 rows x 8 columns]"
            ]
          },
          "metadata": {
            "tags": []
          },
          "execution_count": 16
        }
      ]
    },
    {
      "cell_type": "code",
      "metadata": {
        "colab": {
          "base_uri": "https://localhost:8080/",
          "height": 236
        },
        "id": "aD8rOwkzjG7D",
        "outputId": "df43f54e-09ab-4ad0-d5ea-2672c5d3711d"
      },
      "source": [
        "df_with_str[['StockCode', 'Description']].drop_duplicates()"
      ],
      "execution_count": null,
      "outputs": [
        {
          "output_type": "execute_result",
          "data": {
            "text/html": [
              "<div>\n",
              "<style scoped>\n",
              "    .dataframe tbody tr th:only-of-type {\n",
              "        vertical-align: middle;\n",
              "    }\n",
              "\n",
              "    .dataframe tbody tr th {\n",
              "        vertical-align: top;\n",
              "    }\n",
              "\n",
              "    .dataframe thead th {\n",
              "        text-align: right;\n",
              "    }\n",
              "</style>\n",
              "<table border=\"1\" class=\"dataframe\">\n",
              "  <thead>\n",
              "    <tr style=\"text-align: right;\">\n",
              "      <th></th>\n",
              "      <th>StockCode</th>\n",
              "      <th>Description</th>\n",
              "    </tr>\n",
              "  </thead>\n",
              "  <tbody>\n",
              "    <tr>\n",
              "      <th>45</th>\n",
              "      <td>POST</td>\n",
              "      <td>POSTAGE</td>\n",
              "    </tr>\n",
              "    <tr>\n",
              "      <th>141</th>\n",
              "      <td>D</td>\n",
              "      <td>Discount</td>\n",
              "    </tr>\n",
              "    <tr>\n",
              "      <th>2239</th>\n",
              "      <td>M</td>\n",
              "      <td>Manual</td>\n",
              "    </tr>\n",
              "    <tr>\n",
              "      <th>157195</th>\n",
              "      <td>PADS</td>\n",
              "      <td>PADS TO MATCH ALL CUSHIONS</td>\n",
              "    </tr>\n",
              "    <tr>\n",
              "      <th>317507</th>\n",
              "      <td>DOT</td>\n",
              "      <td>DOTCOM POSTAGE</td>\n",
              "    </tr>\n",
              "    <tr>\n",
              "      <th>317508</th>\n",
              "      <td>CRUK</td>\n",
              "      <td>CRUK Commission</td>\n",
              "    </tr>\n",
              "  </tbody>\n",
              "</table>\n",
              "</div>"
            ],
            "text/plain": [
              "       StockCode                 Description\n",
              "45          POST                     POSTAGE\n",
              "141            D                    Discount\n",
              "2239           M                      Manual\n",
              "157195      PADS  PADS TO MATCH ALL CUSHIONS\n",
              "317507       DOT              DOTCOM POSTAGE\n",
              "317508      CRUK             CRUK Commission"
            ]
          },
          "metadata": {
            "tags": []
          },
          "execution_count": 17
        }
      ]
    },
    {
      "cell_type": "markdown",
      "metadata": {
        "id": "1OEx1yv0e8ok"
      },
      "source": [
        "다음과 같이 정리해볼 수 있다. ( 정확하지 않음 )\n",
        "- `POSTAGE`: 우편요금\n",
        "- `D`: 할인\n",
        "- `M`: ?\n",
        "- `PADS`: 연산 과정에서 발생하는 오차를 보정하기 위해 들어가는 값\n",
        "- `DOT`: ?\n",
        "- `CRUK`: ?"
      ]
    },
    {
      "cell_type": "code",
      "metadata": {
        "colab": {
          "base_uri": "https://localhost:8080/"
        },
        "id": "zQXHt6CReKmx",
        "outputId": "422eb3b4-64dc-4452-f9d9-228990182efa"
      },
      "source": [
        "df_with_str['StockCode'].value_counts()"
      ],
      "execution_count": null,
      "outputs": [
        {
          "output_type": "execute_result",
          "data": {
            "text/plain": [
              "POST    1196\n",
              "M        465\n",
              "D         77\n",
              "CRUK      16\n",
              "DOT       16\n",
              "PADS       4\n",
              "Name: StockCode, dtype: int64"
            ]
          },
          "metadata": {
            "tags": []
          },
          "execution_count": 18
        }
      ]
    },
    {
      "cell_type": "markdown",
      "metadata": {
        "id": "GF1mkwNojxwq"
      },
      "source": [
        "상품코드가 문자열인 상품들의 가격 분포"
      ]
    },
    {
      "cell_type": "code",
      "metadata": {
        "colab": {
          "base_uri": "https://localhost:8080/",
          "height": 299
        },
        "id": "RJl4Tr0vigr2",
        "outputId": "c9d9b0c0-75f9-4b1a-813b-195553674c85"
      },
      "source": [
        "df_with_str.groupby('StockCode')['UnitPrice'].describe().transpose()"
      ],
      "execution_count": null,
      "outputs": [
        {
          "output_type": "execute_result",
          "data": {
            "text/html": [
              "<div>\n",
              "<style scoped>\n",
              "    .dataframe tbody tr th:only-of-type {\n",
              "        vertical-align: middle;\n",
              "    }\n",
              "\n",
              "    .dataframe tbody tr th {\n",
              "        vertical-align: top;\n",
              "    }\n",
              "\n",
              "    .dataframe thead th {\n",
              "        text-align: right;\n",
              "    }\n",
              "</style>\n",
              "<table border=\"1\" class=\"dataframe\">\n",
              "  <thead>\n",
              "    <tr style=\"text-align: right;\">\n",
              "      <th>StockCode</th>\n",
              "      <th>CRUK</th>\n",
              "      <th>D</th>\n",
              "      <th>DOT</th>\n",
              "      <th>M</th>\n",
              "      <th>PADS</th>\n",
              "      <th>POST</th>\n",
              "    </tr>\n",
              "  </thead>\n",
              "  <tbody>\n",
              "    <tr>\n",
              "      <th>count</th>\n",
              "      <td>16.000000</td>\n",
              "      <td>77.000000</td>\n",
              "      <td>16.000000</td>\n",
              "      <td>465.000000</td>\n",
              "      <td>4.00000</td>\n",
              "      <td>1196.000000</td>\n",
              "    </tr>\n",
              "    <tr>\n",
              "      <th>mean</th>\n",
              "      <td>495.839375</td>\n",
              "      <td>72.484545</td>\n",
              "      <td>744.147500</td>\n",
              "      <td>334.425634</td>\n",
              "      <td>0.00075</td>\n",
              "      <td>37.888528</td>\n",
              "    </tr>\n",
              "    <tr>\n",
              "      <th>std</th>\n",
              "      <td>364.164786</td>\n",
              "      <td>219.271071</td>\n",
              "      <td>540.829708</td>\n",
              "      <td>1935.070401</td>\n",
              "      <td>0.00050</td>\n",
              "      <td>334.121790</td>\n",
              "    </tr>\n",
              "    <tr>\n",
              "      <th>min</th>\n",
              "      <td>1.600000</td>\n",
              "      <td>0.010000</td>\n",
              "      <td>11.170000</td>\n",
              "      <td>0.000000</td>\n",
              "      <td>0.00000</td>\n",
              "      <td>1.000000</td>\n",
              "    </tr>\n",
              "    <tr>\n",
              "      <th>25%</th>\n",
              "      <td>284.252500</td>\n",
              "      <td>13.880000</td>\n",
              "      <td>389.082500</td>\n",
              "      <td>0.850000</td>\n",
              "      <td>0.00075</td>\n",
              "      <td>18.000000</td>\n",
              "    </tr>\n",
              "    <tr>\n",
              "      <th>50%</th>\n",
              "      <td>471.770000</td>\n",
              "      <td>22.970000</td>\n",
              "      <td>715.850000</td>\n",
              "      <td>3.000000</td>\n",
              "      <td>0.00100</td>\n",
              "      <td>18.000000</td>\n",
              "    </tr>\n",
              "    <tr>\n",
              "      <th>75%</th>\n",
              "      <td>668.977500</td>\n",
              "      <td>57.600000</td>\n",
              "      <td>998.635000</td>\n",
              "      <td>106.400000</td>\n",
              "      <td>0.00100</td>\n",
              "      <td>18.000000</td>\n",
              "    </tr>\n",
              "    <tr>\n",
              "      <th>max</th>\n",
              "      <td>1100.440000</td>\n",
              "      <td>1867.860000</td>\n",
              "      <td>1599.260000</td>\n",
              "      <td>38970.000000</td>\n",
              "      <td>0.00100</td>\n",
              "      <td>8142.750000</td>\n",
              "    </tr>\n",
              "  </tbody>\n",
              "</table>\n",
              "</div>"
            ],
            "text/plain": [
              "StockCode         CRUK            D  ...     PADS         POST\n",
              "count        16.000000    77.000000  ...  4.00000  1196.000000\n",
              "mean        495.839375    72.484545  ...  0.00075    37.888528\n",
              "std         364.164786   219.271071  ...  0.00050   334.121790\n",
              "min           1.600000     0.010000  ...  0.00000     1.000000\n",
              "25%         284.252500    13.880000  ...  0.00075    18.000000\n",
              "50%         471.770000    22.970000  ...  0.00100    18.000000\n",
              "75%         668.977500    57.600000  ...  0.00100    18.000000\n",
              "max        1100.440000  1867.860000  ...  0.00100  8142.750000\n",
              "\n",
              "[8 rows x 6 columns]"
            ]
          },
          "metadata": {
            "tags": []
          },
          "execution_count": 19
        }
      ]
    },
    {
      "cell_type": "markdown",
      "metadata": {
        "id": "8GGkclwEnQ_L"
      },
      "source": [
        "Discount를 제외한 것들은 분석하기 힘들어 보이므로 삭제"
      ]
    },
    {
      "cell_type": "code",
      "metadata": {
        "colab": {
          "base_uri": "https://localhost:8080/",
          "height": 205
        },
        "id": "vbrgkH4_m_ma",
        "outputId": "2f12ca45-39d5-43fe-b2a2-ad9835841fe4"
      },
      "source": [
        "df = df[(~df['StockCode'].str.isalpha()) | (df['StockCode'] == 'D')]\n",
        "df.head()"
      ],
      "execution_count": null,
      "outputs": [
        {
          "output_type": "execute_result",
          "data": {
            "text/html": [
              "<div>\n",
              "<style scoped>\n",
              "    .dataframe tbody tr th:only-of-type {\n",
              "        vertical-align: middle;\n",
              "    }\n",
              "\n",
              "    .dataframe tbody tr th {\n",
              "        vertical-align: top;\n",
              "    }\n",
              "\n",
              "    .dataframe thead th {\n",
              "        text-align: right;\n",
              "    }\n",
              "</style>\n",
              "<table border=\"1\" class=\"dataframe\">\n",
              "  <thead>\n",
              "    <tr style=\"text-align: right;\">\n",
              "      <th></th>\n",
              "      <th>InvoiceNo</th>\n",
              "      <th>StockCode</th>\n",
              "      <th>Description</th>\n",
              "      <th>Quantity</th>\n",
              "      <th>InvoiceDate</th>\n",
              "      <th>UnitPrice</th>\n",
              "      <th>CustomerID</th>\n",
              "      <th>Country</th>\n",
              "    </tr>\n",
              "  </thead>\n",
              "  <tbody>\n",
              "    <tr>\n",
              "      <th>0</th>\n",
              "      <td>536365</td>\n",
              "      <td>85123A</td>\n",
              "      <td>WHITE HANGING HEART T-LIGHT HOLDER</td>\n",
              "      <td>6</td>\n",
              "      <td>2010-12-01 08:26:00</td>\n",
              "      <td>2.55</td>\n",
              "      <td>17850</td>\n",
              "      <td>United Kingdom</td>\n",
              "    </tr>\n",
              "    <tr>\n",
              "      <th>1</th>\n",
              "      <td>536365</td>\n",
              "      <td>71053</td>\n",
              "      <td>WHITE METAL LANTERN</td>\n",
              "      <td>6</td>\n",
              "      <td>2010-12-01 08:26:00</td>\n",
              "      <td>3.39</td>\n",
              "      <td>17850</td>\n",
              "      <td>United Kingdom</td>\n",
              "    </tr>\n",
              "    <tr>\n",
              "      <th>2</th>\n",
              "      <td>536365</td>\n",
              "      <td>84406B</td>\n",
              "      <td>CREAM CUPID HEARTS COAT HANGER</td>\n",
              "      <td>8</td>\n",
              "      <td>2010-12-01 08:26:00</td>\n",
              "      <td>2.75</td>\n",
              "      <td>17850</td>\n",
              "      <td>United Kingdom</td>\n",
              "    </tr>\n",
              "    <tr>\n",
              "      <th>3</th>\n",
              "      <td>536365</td>\n",
              "      <td>84029G</td>\n",
              "      <td>KNITTED UNION FLAG HOT WATER BOTTLE</td>\n",
              "      <td>6</td>\n",
              "      <td>2010-12-01 08:26:00</td>\n",
              "      <td>3.39</td>\n",
              "      <td>17850</td>\n",
              "      <td>United Kingdom</td>\n",
              "    </tr>\n",
              "    <tr>\n",
              "      <th>4</th>\n",
              "      <td>536365</td>\n",
              "      <td>84029E</td>\n",
              "      <td>RED WOOLLY HOTTIE WHITE HEART.</td>\n",
              "      <td>6</td>\n",
              "      <td>2010-12-01 08:26:00</td>\n",
              "      <td>3.39</td>\n",
              "      <td>17850</td>\n",
              "      <td>United Kingdom</td>\n",
              "    </tr>\n",
              "  </tbody>\n",
              "</table>\n",
              "</div>"
            ],
            "text/plain": [
              "  InvoiceNo StockCode  ... CustomerID         Country\n",
              "0    536365    85123A  ...      17850  United Kingdom\n",
              "1    536365     71053  ...      17850  United Kingdom\n",
              "2    536365    84406B  ...      17850  United Kingdom\n",
              "3    536365    84029G  ...      17850  United Kingdom\n",
              "4    536365    84029E  ...      17850  United Kingdom\n",
              "\n",
              "[5 rows x 8 columns]"
            ]
          },
          "metadata": {
            "tags": []
          },
          "execution_count": 22
        }
      ]
    },
    {
      "cell_type": "markdown",
      "metadata": {
        "id": "m0i4iu4yr-fI"
      },
      "source": [
        "### StockCode의 마지막에 알파벳 한 글자가 붙은 것은 무엇인가?"
      ]
    },
    {
      "cell_type": "code",
      "metadata": {
        "colab": {
          "base_uri": "https://localhost:8080/",
          "height": 207
        },
        "id": "asTQPjtrq1cs",
        "outputId": "da2479ef-8d09-4a53-e7f1-08bdd6493516"
      },
      "source": [
        "display(df[df['StockCode'] == '37444A'].head(1))\n",
        "display(df[df['StockCode'] == '37444B'].head(1))\n",
        "display(df[df['StockCode'] == '37444C'].head(1))"
      ],
      "execution_count": null,
      "outputs": [
        {
          "output_type": "display_data",
          "data": {
            "text/html": [
              "<div>\n",
              "<style scoped>\n",
              "    .dataframe tbody tr th:only-of-type {\n",
              "        vertical-align: middle;\n",
              "    }\n",
              "\n",
              "    .dataframe tbody tr th {\n",
              "        vertical-align: top;\n",
              "    }\n",
              "\n",
              "    .dataframe thead th {\n",
              "        text-align: right;\n",
              "    }\n",
              "</style>\n",
              "<table border=\"1\" class=\"dataframe\">\n",
              "  <thead>\n",
              "    <tr style=\"text-align: right;\">\n",
              "      <th></th>\n",
              "      <th>InvoiceNo</th>\n",
              "      <th>StockCode</th>\n",
              "      <th>Description</th>\n",
              "      <th>Quantity</th>\n",
              "      <th>InvoiceDate</th>\n",
              "      <th>UnitPrice</th>\n",
              "      <th>CustomerID</th>\n",
              "      <th>Country</th>\n",
              "    </tr>\n",
              "  </thead>\n",
              "  <tbody>\n",
              "    <tr>\n",
              "      <th>120</th>\n",
              "      <td>536381</td>\n",
              "      <td>37444A</td>\n",
              "      <td>YELLOW BREAKFAST CUP AND SAUCER</td>\n",
              "      <td>1</td>\n",
              "      <td>2010-12-01 09:41:00</td>\n",
              "      <td>2.95</td>\n",
              "      <td>15311</td>\n",
              "      <td>United Kingdom</td>\n",
              "    </tr>\n",
              "  </tbody>\n",
              "</table>\n",
              "</div>"
            ],
            "text/plain": [
              "    InvoiceNo StockCode  ... CustomerID         Country\n",
              "120    536381    37444A  ...      15311  United Kingdom\n",
              "\n",
              "[1 rows x 8 columns]"
            ]
          },
          "metadata": {
            "tags": []
          }
        },
        {
          "output_type": "display_data",
          "data": {
            "text/html": [
              "<div>\n",
              "<style scoped>\n",
              "    .dataframe tbody tr th:only-of-type {\n",
              "        vertical-align: middle;\n",
              "    }\n",
              "\n",
              "    .dataframe tbody tr th {\n",
              "        vertical-align: top;\n",
              "    }\n",
              "\n",
              "    .dataframe thead th {\n",
              "        text-align: right;\n",
              "    }\n",
              "</style>\n",
              "<table border=\"1\" class=\"dataframe\">\n",
              "  <thead>\n",
              "    <tr style=\"text-align: right;\">\n",
              "      <th></th>\n",
              "      <th>InvoiceNo</th>\n",
              "      <th>StockCode</th>\n",
              "      <th>Description</th>\n",
              "      <th>Quantity</th>\n",
              "      <th>InvoiceDate</th>\n",
              "      <th>UnitPrice</th>\n",
              "      <th>CustomerID</th>\n",
              "      <th>Country</th>\n",
              "    </tr>\n",
              "  </thead>\n",
              "  <tbody>\n",
              "    <tr>\n",
              "      <th>21351</th>\n",
              "      <td>538076</td>\n",
              "      <td>37444B</td>\n",
              "      <td>BLUE BREAKFAST CUP AND SAUCER</td>\n",
              "      <td>2</td>\n",
              "      <td>2010-12-09 14:15:00</td>\n",
              "      <td>2.95</td>\n",
              "      <td>15311</td>\n",
              "      <td>United Kingdom</td>\n",
              "    </tr>\n",
              "  </tbody>\n",
              "</table>\n",
              "</div>"
            ],
            "text/plain": [
              "      InvoiceNo StockCode  ... CustomerID         Country\n",
              "21351    538076    37444B  ...      15311  United Kingdom\n",
              "\n",
              "[1 rows x 8 columns]"
            ]
          },
          "metadata": {
            "tags": []
          }
        },
        {
          "output_type": "display_data",
          "data": {
            "text/html": [
              "<div>\n",
              "<style scoped>\n",
              "    .dataframe tbody tr th:only-of-type {\n",
              "        vertical-align: middle;\n",
              "    }\n",
              "\n",
              "    .dataframe tbody tr th {\n",
              "        vertical-align: top;\n",
              "    }\n",
              "\n",
              "    .dataframe thead th {\n",
              "        text-align: right;\n",
              "    }\n",
              "</style>\n",
              "<table border=\"1\" class=\"dataframe\">\n",
              "  <thead>\n",
              "    <tr style=\"text-align: right;\">\n",
              "      <th></th>\n",
              "      <th>InvoiceNo</th>\n",
              "      <th>StockCode</th>\n",
              "      <th>Description</th>\n",
              "      <th>Quantity</th>\n",
              "      <th>InvoiceDate</th>\n",
              "      <th>UnitPrice</th>\n",
              "      <th>CustomerID</th>\n",
              "      <th>Country</th>\n",
              "    </tr>\n",
              "  </thead>\n",
              "  <tbody>\n",
              "    <tr>\n",
              "      <th>121</th>\n",
              "      <td>536381</td>\n",
              "      <td>37444C</td>\n",
              "      <td>PINK BREAKFAST CUP AND SAUCER</td>\n",
              "      <td>1</td>\n",
              "      <td>2010-12-01 09:41:00</td>\n",
              "      <td>2.95</td>\n",
              "      <td>15311</td>\n",
              "      <td>United Kingdom</td>\n",
              "    </tr>\n",
              "  </tbody>\n",
              "</table>\n",
              "</div>"
            ],
            "text/plain": [
              "    InvoiceNo StockCode  ... CustomerID         Country\n",
              "121    536381    37444C  ...      15311  United Kingdom\n",
              "\n",
              "[1 rows x 8 columns]"
            ]
          },
          "metadata": {
            "tags": []
          }
        }
      ]
    },
    {
      "cell_type": "markdown",
      "metadata": {
        "id": "HctRIF4F0iD7"
      },
      "source": [
        "상품에 대한 옵션인 것을 알 수 있다. 즉, `StockCode`는 `ItemCode`(상품 아이디)와 `OptionCode`(옵션 아이디)로 분리할 수 있다."
      ]
    },
    {
      "cell_type": "code",
      "metadata": {
        "id": "Gh45vr5wsYRy"
      },
      "source": [
        "df['ItemCode'] = df['StockCode'].map(lambda x: x[:5])\n",
        "df['OptionCode'] = df['StockCode'].map(lambda x: x[5] if len(x) == 6 else '')"
      ],
      "execution_count": null,
      "outputs": []
    },
    {
      "cell_type": "code",
      "metadata": {
        "colab": {
          "base_uri": "https://localhost:8080/"
        },
        "id": "Jphtnud5r5d0",
        "outputId": "bb908883-93b3-49c6-84ea-8872400a1fad"
      },
      "source": [
        "df.groupby('ItemCode')['OptionCode'].nunique().sort_values(ascending=False)"
      ],
      "execution_count": null,
      "outputs": [
        {
          "output_type": "execute_result",
          "data": {
            "text/plain": [
              "ItemCode\n",
              "90214    24\n",
              "85049     8\n",
              "84968     6\n",
              "90036     6\n",
              "84596     6\n",
              "         ..\n",
              "23174     1\n",
              "23173     1\n",
              "23172     1\n",
              "23171     1\n",
              "10002     1\n",
              "Name: OptionCode, Length: 3211, dtype: int64"
            ]
          },
          "metadata": {
            "tags": []
          },
          "execution_count": 25
        }
      ]
    },
    {
      "cell_type": "markdown",
      "metadata": {
        "id": "UUDwfO1B0uQb"
      },
      "source": [
        "옵션이 가장 많은 `ItemCode`가 '90214'인 상품을 보자. 이 상품은 키링이며, 옵션으로 어떤 영문자를 새길지 결정할 수 있다."
      ]
    },
    {
      "cell_type": "code",
      "metadata": {
        "colab": {
          "base_uri": "https://localhost:8080/",
          "height": 205
        },
        "id": "WF2KIGHusPAi",
        "outputId": "366ba0ea-d873-4259-e24d-b0c16e32b87f"
      },
      "source": [
        "df[df['ItemCode'] == '90214'].head()"
      ],
      "execution_count": null,
      "outputs": [
        {
          "output_type": "execute_result",
          "data": {
            "text/html": [
              "<div>\n",
              "<style scoped>\n",
              "    .dataframe tbody tr th:only-of-type {\n",
              "        vertical-align: middle;\n",
              "    }\n",
              "\n",
              "    .dataframe tbody tr th {\n",
              "        vertical-align: top;\n",
              "    }\n",
              "\n",
              "    .dataframe thead th {\n",
              "        text-align: right;\n",
              "    }\n",
              "</style>\n",
              "<table border=\"1\" class=\"dataframe\">\n",
              "  <thead>\n",
              "    <tr style=\"text-align: right;\">\n",
              "      <th></th>\n",
              "      <th>InvoiceNo</th>\n",
              "      <th>StockCode</th>\n",
              "      <th>Description</th>\n",
              "      <th>Quantity</th>\n",
              "      <th>InvoiceDate</th>\n",
              "      <th>UnitPrice</th>\n",
              "      <th>CustomerID</th>\n",
              "      <th>Country</th>\n",
              "      <th>ItemCode</th>\n",
              "      <th>OptionCode</th>\n",
              "    </tr>\n",
              "  </thead>\n",
              "  <tbody>\n",
              "    <tr>\n",
              "      <th>2423</th>\n",
              "      <td>536591</td>\n",
              "      <td>90214M</td>\n",
              "      <td>LETTER \"M\" BLING KEY RING</td>\n",
              "      <td>1</td>\n",
              "      <td>2010-12-01 16:57:00</td>\n",
              "      <td>1.25</td>\n",
              "      <td>14606</td>\n",
              "      <td>United Kingdom</td>\n",
              "      <td>90214</td>\n",
              "      <td>M</td>\n",
              "    </tr>\n",
              "    <tr>\n",
              "      <th>2424</th>\n",
              "      <td>536591</td>\n",
              "      <td>90214V</td>\n",
              "      <td>LETTER \"V\" BLING KEY RING</td>\n",
              "      <td>1</td>\n",
              "      <td>2010-12-01 16:57:00</td>\n",
              "      <td>1.25</td>\n",
              "      <td>14606</td>\n",
              "      <td>United Kingdom</td>\n",
              "      <td>90214</td>\n",
              "      <td>V</td>\n",
              "    </tr>\n",
              "    <tr>\n",
              "      <th>2425</th>\n",
              "      <td>536591</td>\n",
              "      <td>90214S</td>\n",
              "      <td>LETTER \"S\" BLING KEY RING</td>\n",
              "      <td>1</td>\n",
              "      <td>2010-12-01 16:57:00</td>\n",
              "      <td>1.25</td>\n",
              "      <td>14606</td>\n",
              "      <td>United Kingdom</td>\n",
              "      <td>90214</td>\n",
              "      <td>S</td>\n",
              "    </tr>\n",
              "    <tr>\n",
              "      <th>2426</th>\n",
              "      <td>536591</td>\n",
              "      <td>90214J</td>\n",
              "      <td>LETTER \"J\" BLING KEY RING</td>\n",
              "      <td>2</td>\n",
              "      <td>2010-12-01 16:57:00</td>\n",
              "      <td>1.25</td>\n",
              "      <td>14606</td>\n",
              "      <td>United Kingdom</td>\n",
              "      <td>90214</td>\n",
              "      <td>J</td>\n",
              "    </tr>\n",
              "    <tr>\n",
              "      <th>17499</th>\n",
              "      <td>537765</td>\n",
              "      <td>90214S</td>\n",
              "      <td>LETTER \"S\" BLING KEY RING</td>\n",
              "      <td>2</td>\n",
              "      <td>2010-12-08 12:08:00</td>\n",
              "      <td>1.25</td>\n",
              "      <td>14606</td>\n",
              "      <td>United Kingdom</td>\n",
              "      <td>90214</td>\n",
              "      <td>S</td>\n",
              "    </tr>\n",
              "  </tbody>\n",
              "</table>\n",
              "</div>"
            ],
            "text/plain": [
              "      InvoiceNo StockCode  ... ItemCode  OptionCode\n",
              "2423     536591    90214M  ...    90214           M\n",
              "2424     536591    90214V  ...    90214           V\n",
              "2425     536591    90214S  ...    90214           S\n",
              "2426     536591    90214J  ...    90214           J\n",
              "17499    537765    90214S  ...    90214           S\n",
              "\n",
              "[5 rows x 10 columns]"
            ]
          },
          "metadata": {
            "tags": []
          },
          "execution_count": 26
        }
      ]
    },
    {
      "cell_type": "markdown",
      "metadata": {
        "id": "1K8KMpy71Ciu"
      },
      "source": [
        "전체 상품 중 옵션이 있는 상품의 비율은 다음과 같다."
      ]
    },
    {
      "cell_type": "code",
      "metadata": {
        "colab": {
          "base_uri": "https://localhost:8080/"
        },
        "id": "q0cprClk1RcX",
        "outputId": "e09dc1cb-4a62-4da8-9f61-f142f9a96857"
      },
      "source": [
        "round(df[df['OptionCode'] != '']['ItemCode'].nunique() / df['ItemCode'].nunique() * 100, 2)"
      ],
      "execution_count": null,
      "outputs": [
        {
          "output_type": "execute_result",
          "data": {
            "text/plain": [
              "12.8"
            ]
          },
          "metadata": {
            "tags": []
          },
          "execution_count": 27
        }
      ]
    },
    {
      "cell_type": "markdown",
      "metadata": {
        "id": "VnpigRICw8Wp"
      },
      "source": [
        "`Description`으로부터 `ItemCode`와 `OptionCode`에 대한 정보를 추출하려 했으나 전처리할 것이 많아 생략.\n",
        "\n",
        "실제로는 옵션이 있는 상품이지만 `StockCode`의 마지막에 알파벳을 붙이지 않은 상품도 있다. 즉, 실제 옵션이 있는 상품은 12.8%보다 많다."
      ]
    },
    {
      "cell_type": "markdown",
      "metadata": {
        "id": "NJZ9T8t2xoNM"
      },
      "source": [
        "## InvoiceNo\n",
        "InvoiceNo에 'C'가 포함된 것은 전체 트랜잭션 중 몇 퍼센트를 차지하는가?"
      ]
    },
    {
      "cell_type": "code",
      "metadata": {
        "colab": {
          "base_uri": "https://localhost:8080/"
        },
        "id": "F2ngoNf5xIby",
        "outputId": "872eacc2-e61f-4aa3-ea83-c2752c7d79e0"
      },
      "source": [
        "round(len(df[df['InvoiceNo'].str.contains('C')])/len(df)*100, 2)"
      ],
      "execution_count": null,
      "outputs": [
        {
          "output_type": "execute_result",
          "data": {
            "text/plain": [
              "2.13"
            ]
          },
          "metadata": {
            "tags": []
          },
          "execution_count": 28
        }
      ]
    },
    {
      "cell_type": "markdown",
      "metadata": {
        "id": "O2b4t6XoyEV5"
      },
      "source": [
        "## 주문한 건에 대해서만 주문 취소가 가능한가?\n",
        "데이터셋 구조 문제로 이 가설을 아주 정확하게 검증할 수는 없다.\n",
        "\n",
        "정확하게 검증하기 위해서는 다음과 같은 구조를 가져야 한다.\n"
      ]
    },
    {
      "cell_type": "code",
      "metadata": {
        "colab": {
          "base_uri": "https://localhost:8080/",
          "height": 112
        },
        "id": "S2HfftfjA28g",
        "outputId": "ea9ed3df-8b60-4783-cbaa-2a3633d3d140"
      },
      "source": [
        "examples = [\n",
        "            ('536365', False, '85123A', 'WHITE HANGING HEART T-LIGHT HOLDER', 6, '2010-12-01 08:26:00', 2.55, '17850', 'United Kingdom'),\n",
        "            ('536365', True, '85123A', 'WHITE HANGING HEART T-LIGHT HOLDER', 6, '2010-12-02 08:26:00', 2.55, '17850', 'United Kingdom'),\n",
        "]\n",
        "\n",
        "pd.DataFrame(\n",
        "    examples,\n",
        "    columns=['InvoiceNo', 'Cancel', 'StockCode', 'Description', 'Quantity', 'InvoiceDate', 'UnitPrice', 'CustomerID', 'Country']\n",
        ")"
      ],
      "execution_count": null,
      "outputs": [
        {
          "output_type": "execute_result",
          "data": {
            "text/html": [
              "<div>\n",
              "<style scoped>\n",
              "    .dataframe tbody tr th:only-of-type {\n",
              "        vertical-align: middle;\n",
              "    }\n",
              "\n",
              "    .dataframe tbody tr th {\n",
              "        vertical-align: top;\n",
              "    }\n",
              "\n",
              "    .dataframe thead th {\n",
              "        text-align: right;\n",
              "    }\n",
              "</style>\n",
              "<table border=\"1\" class=\"dataframe\">\n",
              "  <thead>\n",
              "    <tr style=\"text-align: right;\">\n",
              "      <th></th>\n",
              "      <th>InvoiceNo</th>\n",
              "      <th>Cancel</th>\n",
              "      <th>StockCode</th>\n",
              "      <th>Description</th>\n",
              "      <th>Quantity</th>\n",
              "      <th>InvoiceDate</th>\n",
              "      <th>UnitPrice</th>\n",
              "      <th>CustomerID</th>\n",
              "      <th>Country</th>\n",
              "    </tr>\n",
              "  </thead>\n",
              "  <tbody>\n",
              "    <tr>\n",
              "      <th>0</th>\n",
              "      <td>536365</td>\n",
              "      <td>False</td>\n",
              "      <td>85123A</td>\n",
              "      <td>WHITE HANGING HEART T-LIGHT HOLDER</td>\n",
              "      <td>6</td>\n",
              "      <td>2010-12-01 08:26:00</td>\n",
              "      <td>2.55</td>\n",
              "      <td>17850</td>\n",
              "      <td>United Kingdom</td>\n",
              "    </tr>\n",
              "    <tr>\n",
              "      <th>1</th>\n",
              "      <td>536365</td>\n",
              "      <td>True</td>\n",
              "      <td>85123A</td>\n",
              "      <td>WHITE HANGING HEART T-LIGHT HOLDER</td>\n",
              "      <td>6</td>\n",
              "      <td>2010-12-02 08:26:00</td>\n",
              "      <td>2.55</td>\n",
              "      <td>17850</td>\n",
              "      <td>United Kingdom</td>\n",
              "    </tr>\n",
              "  </tbody>\n",
              "</table>\n",
              "</div>"
            ],
            "text/plain": [
              "  InvoiceNo  Cancel StockCode  ... UnitPrice  CustomerID         Country\n",
              "0    536365   False    85123A  ...      2.55       17850  United Kingdom\n",
              "1    536365    True    85123A  ...      2.55       17850  United Kingdom\n",
              "\n",
              "[2 rows x 9 columns]"
            ]
          },
          "metadata": {
            "tags": []
          },
          "execution_count": 29
        }
      ]
    },
    {
      "cell_type": "markdown",
      "metadata": {
        "id": "leo5-jGECaMK"
      },
      "source": [
        "즉, 주문 트랜잭션과 주문 취소 트랜잭션은 같은 `InvoiceNo`를 가져야 하며, 해당 트랜잭션이 취소를 위한 것인지를 표시하기 위해 `Cancel` 칼럼을 추가해야 한다.\n",
        "\n",
        "완벽하게 검증하진 못하지만 대충이라도 해보겠다. 아래 두 가지 기준을 바탕으로 판단을 함\n",
        "- 주문이 발생한 후에 주문 취소 발생\n",
        "- 주문 수량이 취소 수량보다 많음"
      ]
    },
    {
      "cell_type": "code",
      "metadata": {
        "id": "_gvC5q4Exslh"
      },
      "source": [
        "def check_hypothesis_cancelled_order(df):\n",
        "    failed = 0\n",
        "    passed = 0\n",
        "    neg_qty = df[df['Quantity'] < 0].reset_index(drop=True)\n",
        "    pos_qty = df[~df['Quantity'] < 0].reset_index(drop=True)\n",
        "    \n",
        "    failed_negs = []\n",
        "\n",
        "    for _, row in tqdm(neg_qty.iterrows()):\n",
        "        if row['CustomerID']:\n",
        "            p = pos_qty[\n",
        "                        (pos_qty['CustomerID'] == row['CustomerID']) &\n",
        "                        (pos_qty['StockCode'] == row['StockCode']) &\n",
        "                        (pos_qty['Quantity'] >= abs(row['Quantity'])) &\n",
        "                        (pos_qty['InvoiceDate'] <= row['InvoiceDate'])\n",
        "            ]\n",
        "\n",
        "            if len(p) == 0:\n",
        "                failed += 1\n",
        "                failed_negs.append(row.to_frame().transpose())\n",
        "            else:\n",
        "                passed += 1\n",
        "            \n",
        "    if failed > passed:\n",
        "        print('Hypothesis Rejected!')\n",
        "        print(f'Failed Counts: {failed} | Passed Counts: {passed}')\n",
        "        print(f\"Approximately {failed / (failed + passed) * 100} % rows didn't satisfy the condition\")\n",
        "    else:\n",
        "        print('Hypothesis Accepted!')\n",
        "        print(f'Failed Counts: {failed} | Passed Counts: {passed}')\n",
        "        print(f\"Approximately {passed / (failed + passed) * 100:.2f} % rows satisfy the condition\")\n",
        "\n",
        "    return pd.concat(failed_negs)"
      ],
      "execution_count": null,
      "outputs": []
    },
    {
      "cell_type": "code",
      "metadata": {
        "id": "vUjhdueByVvi",
        "colab": {
          "base_uri": "https://localhost:8080/",
          "height": 527,
          "referenced_widgets": [
            "d4ea55ad109e4292b694467435ac478c",
            "2c6d5eaec33249c39eba898da4f988d1",
            "44e76762984e4c94879097c32c04ae8d",
            "57af7aacf12c4a91aee571a376ae188e",
            "e6f6008e038c4affab06b5a1dbfb8e30",
            "05ecc51356984bd2a9f7c483d689c4c3",
            "f6c998354b3e463c9aa7171d5a6c049c",
            "f888286123d940cb8f63de375ae2e604"
          ]
        },
        "outputId": "1e070edd-941e-48b3-ae72-9a1d6801b081"
      },
      "source": [
        "failed_negs = check_hypothesis_cancelled_order(df)\n",
        "failed_negs"
      ],
      "execution_count": null,
      "outputs": [
        {
          "output_type": "display_data",
          "data": {
            "application/vnd.jupyter.widget-view+json": {
              "model_id": "d4ea55ad109e4292b694467435ac478c",
              "version_minor": 0,
              "version_major": 2
            },
            "text/plain": [
              "HBox(children=(FloatProgress(value=1.0, bar_style='info', max=1.0), HTML(value='')))"
            ]
          },
          "metadata": {
            "tags": []
          }
        },
        {
          "output_type": "stream",
          "text": [
            "\n",
            "Hypothesis Accepted!\n",
            "Failed Counts: 1192 | Passed Counts: 7425\n",
            "Approximately 86.17 % rows satisfy the condition\n"
          ],
          "name": "stdout"
        },
        {
          "output_type": "execute_result",
          "data": {
            "text/html": [
              "<div>\n",
              "<style scoped>\n",
              "    .dataframe tbody tr th:only-of-type {\n",
              "        vertical-align: middle;\n",
              "    }\n",
              "\n",
              "    .dataframe tbody tr th {\n",
              "        vertical-align: top;\n",
              "    }\n",
              "\n",
              "    .dataframe thead th {\n",
              "        text-align: right;\n",
              "    }\n",
              "</style>\n",
              "<table border=\"1\" class=\"dataframe\">\n",
              "  <thead>\n",
              "    <tr style=\"text-align: right;\">\n",
              "      <th></th>\n",
              "      <th>InvoiceNo</th>\n",
              "      <th>StockCode</th>\n",
              "      <th>Description</th>\n",
              "      <th>Quantity</th>\n",
              "      <th>InvoiceDate</th>\n",
              "      <th>UnitPrice</th>\n",
              "      <th>CustomerID</th>\n",
              "      <th>Country</th>\n",
              "      <th>ItemCode</th>\n",
              "      <th>OptionCode</th>\n",
              "    </tr>\n",
              "  </thead>\n",
              "  <tbody>\n",
              "    <tr>\n",
              "      <th>0</th>\n",
              "      <td>C536379</td>\n",
              "      <td>D</td>\n",
              "      <td>Discount</td>\n",
              "      <td>-1</td>\n",
              "      <td>2010-12-01 09:41:00</td>\n",
              "      <td>27.5</td>\n",
              "      <td>14527</td>\n",
              "      <td>United Kingdom</td>\n",
              "      <td>D</td>\n",
              "      <td></td>\n",
              "    </tr>\n",
              "    <tr>\n",
              "      <th>1</th>\n",
              "      <td>C536383</td>\n",
              "      <td>35004C</td>\n",
              "      <td>SET OF 3 COLOURED  FLYING DUCKS</td>\n",
              "      <td>-1</td>\n",
              "      <td>2010-12-01 09:49:00</td>\n",
              "      <td>4.65</td>\n",
              "      <td>15311</td>\n",
              "      <td>United Kingdom</td>\n",
              "      <td>35004</td>\n",
              "      <td>C</td>\n",
              "    </tr>\n",
              "    <tr>\n",
              "      <th>2</th>\n",
              "      <td>C536391</td>\n",
              "      <td>22556</td>\n",
              "      <td>PLASTERS IN TIN CIRCUS PARADE</td>\n",
              "      <td>-12</td>\n",
              "      <td>2010-12-01 10:24:00</td>\n",
              "      <td>1.65</td>\n",
              "      <td>17548</td>\n",
              "      <td>United Kingdom</td>\n",
              "      <td>22556</td>\n",
              "      <td></td>\n",
              "    </tr>\n",
              "    <tr>\n",
              "      <th>3</th>\n",
              "      <td>C536391</td>\n",
              "      <td>21984</td>\n",
              "      <td>PACK OF 12 PINK PAISLEY TISSUES</td>\n",
              "      <td>-24</td>\n",
              "      <td>2010-12-01 10:24:00</td>\n",
              "      <td>0.29</td>\n",
              "      <td>17548</td>\n",
              "      <td>United Kingdom</td>\n",
              "      <td>21984</td>\n",
              "      <td></td>\n",
              "    </tr>\n",
              "    <tr>\n",
              "      <th>4</th>\n",
              "      <td>C536391</td>\n",
              "      <td>21983</td>\n",
              "      <td>PACK OF 12 BLUE PAISLEY TISSUES</td>\n",
              "      <td>-24</td>\n",
              "      <td>2010-12-01 10:24:00</td>\n",
              "      <td>0.29</td>\n",
              "      <td>17548</td>\n",
              "      <td>United Kingdom</td>\n",
              "      <td>21983</td>\n",
              "      <td></td>\n",
              "    </tr>\n",
              "    <tr>\n",
              "      <th>...</th>\n",
              "      <td>...</td>\n",
              "      <td>...</td>\n",
              "      <td>...</td>\n",
              "      <td>...</td>\n",
              "      <td>...</td>\n",
              "      <td>...</td>\n",
              "      <td>...</td>\n",
              "      <td>...</td>\n",
              "      <td>...</td>\n",
              "      <td>...</td>\n",
              "    </tr>\n",
              "    <tr>\n",
              "      <th>8520</th>\n",
              "      <td>C581100</td>\n",
              "      <td>22946</td>\n",
              "      <td>WOODEN ADVENT CALENDAR CREAM</td>\n",
              "      <td>-1</td>\n",
              "      <td>2011-12-07 11:44:00</td>\n",
              "      <td>16.95</td>\n",
              "      <td>14534</td>\n",
              "      <td>United Kingdom</td>\n",
              "      <td>22946</td>\n",
              "      <td></td>\n",
              "    </tr>\n",
              "    <tr>\n",
              "      <th>8529</th>\n",
              "      <td>C581121</td>\n",
              "      <td>22526</td>\n",
              "      <td>WHEELBARROW FOR CHILDREN</td>\n",
              "      <td>-1</td>\n",
              "      <td>2011-12-07 12:28:00</td>\n",
              "      <td>12.75</td>\n",
              "      <td>14087</td>\n",
              "      <td>United Kingdom</td>\n",
              "      <td>22526</td>\n",
              "      <td></td>\n",
              "    </tr>\n",
              "    <tr>\n",
              "      <th>8547</th>\n",
              "      <td>C581228</td>\n",
              "      <td>22781</td>\n",
              "      <td>GUMBALL MAGAZINE RACK</td>\n",
              "      <td>-24</td>\n",
              "      <td>2011-12-08 10:06:00</td>\n",
              "      <td>6.75</td>\n",
              "      <td>16019</td>\n",
              "      <td>United Kingdom</td>\n",
              "      <td>22781</td>\n",
              "      <td></td>\n",
              "    </tr>\n",
              "    <tr>\n",
              "      <th>8565</th>\n",
              "      <td>C581305</td>\n",
              "      <td>22627</td>\n",
              "      <td>MINT KITCHEN SCALES</td>\n",
              "      <td>-1</td>\n",
              "      <td>2011-12-08 11:42:00</td>\n",
              "      <td>8.5</td>\n",
              "      <td>16933</td>\n",
              "      <td>United Kingdom</td>\n",
              "      <td>22627</td>\n",
              "      <td></td>\n",
              "    </tr>\n",
              "    <tr>\n",
              "      <th>8572</th>\n",
              "      <td>C581323</td>\n",
              "      <td>21533</td>\n",
              "      <td>RETROSPOT LARGE MILK JUG</td>\n",
              "      <td>-1</td>\n",
              "      <td>2011-12-08 11:53:00</td>\n",
              "      <td>4.25</td>\n",
              "      <td>14442</td>\n",
              "      <td>Channel Islands</td>\n",
              "      <td>21533</td>\n",
              "      <td></td>\n",
              "    </tr>\n",
              "  </tbody>\n",
              "</table>\n",
              "<p>1192 rows × 10 columns</p>\n",
              "</div>"
            ],
            "text/plain": [
              "     InvoiceNo StockCode  ... ItemCode OptionCode\n",
              "0      C536379         D  ...        D           \n",
              "1      C536383    35004C  ...    35004          C\n",
              "2      C536391     22556  ...    22556           \n",
              "3      C536391     21984  ...    21984           \n",
              "4      C536391     21983  ...    21983           \n",
              "...        ...       ...  ...      ...        ...\n",
              "8520   C581100     22946  ...    22946           \n",
              "8529   C581121     22526  ...    22526           \n",
              "8547   C581228     22781  ...    22781           \n",
              "8565   C581305     22627  ...    22627           \n",
              "8572   C581323     21533  ...    21533           \n",
              "\n",
              "[1192 rows x 10 columns]"
            ]
          },
          "metadata": {
            "tags": []
          },
          "execution_count": 31
        }
      ]
    },
    {
      "cell_type": "markdown",
      "metadata": {
        "id": "xnIw6TCQCMWC"
      },
      "source": [
        "월별 트랜잭션 분포"
      ]
    },
    {
      "cell_type": "code",
      "metadata": {
        "id": "Dc5zV47apurn",
        "colab": {
          "base_uri": "https://localhost:8080/",
          "height": 339
        },
        "outputId": "d32609a8-b767-48ca-d49d-57afa0880189"
      },
      "source": [
        "df.groupby([df[\"InvoiceDate\"].dt.year, df[\"InvoiceDate\"].dt.month]).size().plot(kind=\"bar\")"
      ],
      "execution_count": null,
      "outputs": [
        {
          "output_type": "execute_result",
          "data": {
            "text/plain": [
              "<matplotlib.axes._subplots.AxesSubplot at 0x7f292de275d0>"
            ]
          },
          "metadata": {
            "tags": []
          },
          "execution_count": 32
        },
        {
          "output_type": "display_data",
          "data": {
            "image/png": "[encoded data removed]",
            "text/plain": [
              "<Figure size 432x288 with 1 Axes>"
            ]
          },
          "metadata": {
            "tags": [],
            "needs_background": "light"
          }
        }
      ]
    },
    {
      "cell_type": "markdown",
      "metadata": {
        "id": "mWiE3uC7COo6"
      },
      "source": [
        "월별 가설 만족 못하는 트랜잭션 분포"
      ]
    },
    {
      "cell_type": "code",
      "metadata": {
        "id": "IbrHu1Mnq7xt",
        "colab": {
          "base_uri": "https://localhost:8080/",
          "height": 343
        },
        "outputId": "729aa26a-d9aa-441d-f93a-d38fce365ef0"
      },
      "source": [
        "failed_negs.groupby([failed_negs[\"InvoiceDate\"].dt.year, failed_negs[\"InvoiceDate\"].dt.month]).size().plot(kind=\"bar\")"
      ],
      "execution_count": null,
      "outputs": [
        {
          "output_type": "execute_result",
          "data": {
            "text/plain": [
              "<matplotlib.axes._subplots.AxesSubplot at 0x7f292e20f110>"
            ]
          },
          "metadata": {
            "tags": []
          },
          "execution_count": 33
        },
        {
          "output_type": "display_data",
          "data": {
            "image/png": "[encoded data removed]",
            "text/plain": [
              "<Figure size 432x288 with 1 Axes>"
            ]
          },
          "metadata": {
            "tags": [],
            "needs_background": "light"
          }
        }
      ]
    },
    {
      "cell_type": "markdown",
      "metadata": {
        "id": "W52e8dssrseH"
      },
      "source": [
        "- 86.94 %의 트랜잭션은 주문한 것에 대해서만 취소 가능하다.\n",
        "- 가설을 만족하지 못하는 것도 13% 정도 있는데, 데이터셋의 초창기에 몰려있다. 이는 2020년 12월 이전의 데이터가 없기 때문이다."
      ]
    },
    {
      "cell_type": "markdown",
      "metadata": {
        "id": "KDIYRHaDoBek"
      },
      "source": [
        "## Description\n",
        "같은 상품이면 같은 Description을 가지고 있는가"
      ]
    },
    {
      "cell_type": "code",
      "metadata": {
        "id": "-Y-e-wOBC47z"
      },
      "source": [
        "# no_option = df[df['OptionCode'] == ''].copy()\n",
        "# no_option.head()"
      ],
      "execution_count": null,
      "outputs": []
    },
    {
      "cell_type": "code",
      "metadata": {
        "colab": {
          "base_uri": "https://localhost:8080/",
          "height": 425
        },
        "id": "rSJvC68jyWvS",
        "outputId": "af937ccd-afcf-4117-b1cc-010169806b29"
      },
      "source": [
        "df.groupby('StockCode').agg({'Description': ['unique', 'nunique']}).sort_values(by=('Description', 'nunique'), ascending=False).head(10)"
      ],
      "execution_count": null,
      "outputs": [
        {
          "output_type": "execute_result",
          "data": {
            "text/html": [
              "<div>\n",
              "<style scoped>\n",
              "    .dataframe tbody tr th:only-of-type {\n",
              "        vertical-align: middle;\n",
              "    }\n",
              "\n",
              "    .dataframe tbody tr th {\n",
              "        vertical-align: top;\n",
              "    }\n",
              "\n",
              "    .dataframe thead tr th {\n",
              "        text-align: left;\n",
              "    }\n",
              "\n",
              "    .dataframe thead tr:last-of-type th {\n",
              "        text-align: right;\n",
              "    }\n",
              "</style>\n",
              "<table border=\"1\" class=\"dataframe\">\n",
              "  <thead>\n",
              "    <tr>\n",
              "      <th></th>\n",
              "      <th colspan=\"2\" halign=\"left\">Description</th>\n",
              "    </tr>\n",
              "    <tr>\n",
              "      <th></th>\n",
              "      <th>unique</th>\n",
              "      <th>nunique</th>\n",
              "    </tr>\n",
              "    <tr>\n",
              "      <th>StockCode</th>\n",
              "      <th></th>\n",
              "      <th></th>\n",
              "    </tr>\n",
              "  </thead>\n",
              "  <tbody>\n",
              "    <tr>\n",
              "      <th>23196</th>\n",
              "      <td>[RETRO LEAVES MAGNETIC NOTEPAD, RETO LEAVES MA...</td>\n",
              "      <td>4</td>\n",
              "    </tr>\n",
              "    <tr>\n",
              "      <th>23236</th>\n",
              "      <td>[DOILEY STORAGE TIN, DOILEY BISCUIT TIN, STORA...</td>\n",
              "      <td>4</td>\n",
              "    </tr>\n",
              "    <tr>\n",
              "      <th>23370</th>\n",
              "      <td>[SET 36 COLOUR PENCILS DOILEY, SET 36 COLOURIN...</td>\n",
              "      <td>3</td>\n",
              "    </tr>\n",
              "    <tr>\n",
              "      <th>23209</th>\n",
              "      <td>[LUNCH BAG DOILEY PATTERN , LUNCH BAG VINTAGE ...</td>\n",
              "      <td>3</td>\n",
              "    </tr>\n",
              "    <tr>\n",
              "      <th>23396</th>\n",
              "      <td>[BUTTERFLY CUSHION COVER, LA JARDIN BOTANIQUE ...</td>\n",
              "      <td>3</td>\n",
              "    </tr>\n",
              "    <tr>\n",
              "      <th>23413</th>\n",
              "      <td>[VINTAGE COFFEE GRINDER BOX, DECROTIVEVINTAGE ...</td>\n",
              "      <td>3</td>\n",
              "    </tr>\n",
              "    <tr>\n",
              "      <th>22937</th>\n",
              "      <td>[BAKING MOULD CHOCOLATE CUPCAKES, BAKING MOULD...</td>\n",
              "      <td>3</td>\n",
              "    </tr>\n",
              "    <tr>\n",
              "      <th>17107D</th>\n",
              "      <td>[FLOWER FAIRY,5 SUMMER B'DRAW LINERS, FLOWER F...</td>\n",
              "      <td>3</td>\n",
              "    </tr>\n",
              "    <tr>\n",
              "      <th>22776</th>\n",
              "      <td>[SWEETHEART CAKESTAND 3 TIER, CAKESTAND, 3 TIE...</td>\n",
              "      <td>3</td>\n",
              "    </tr>\n",
              "    <tr>\n",
              "      <th>23126</th>\n",
              "      <td>[DOLLCRAFT GIRL AMELIE KIT, FELTCRAFT GIRL AME...</td>\n",
              "      <td>3</td>\n",
              "    </tr>\n",
              "  </tbody>\n",
              "</table>\n",
              "</div>"
            ],
            "text/plain": [
              "                                                 Description        \n",
              "                                                      unique nunique\n",
              "StockCode                                                           \n",
              "23196      [RETRO LEAVES MAGNETIC NOTEPAD, RETO LEAVES MA...       4\n",
              "23236      [DOILEY STORAGE TIN, DOILEY BISCUIT TIN, STORA...       4\n",
              "23370      [SET 36 COLOUR PENCILS DOILEY, SET 36 COLOURIN...       3\n",
              "23209      [LUNCH BAG DOILEY PATTERN , LUNCH BAG VINTAGE ...       3\n",
              "23396      [BUTTERFLY CUSHION COVER, LA JARDIN BOTANIQUE ...       3\n",
              "23413      [VINTAGE COFFEE GRINDER BOX, DECROTIVEVINTAGE ...       3\n",
              "22937      [BAKING MOULD CHOCOLATE CUPCAKES, BAKING MOULD...       3\n",
              "17107D     [FLOWER FAIRY,5 SUMMER B'DRAW LINERS, FLOWER F...       3\n",
              "22776      [SWEETHEART CAKESTAND 3 TIER, CAKESTAND, 3 TIE...       3\n",
              "23126      [DOLLCRAFT GIRL AMELIE KIT, FELTCRAFT GIRL AME...       3"
            ]
          },
          "metadata": {
            "tags": []
          },
          "execution_count": 35
        }
      ]
    },
    {
      "cell_type": "code",
      "metadata": {
        "colab": {
          "base_uri": "https://localhost:8080/"
        },
        "id": "4zOFoB9xIS6F",
        "outputId": "178e20c2-ecae-4627-9a35-8927cbd765fb"
      },
      "source": [
        "list(df[df['StockCode'] == '23196']['Description'].unique())"
      ],
      "execution_count": null,
      "outputs": [
        {
          "output_type": "execute_result",
          "data": {
            "text/plain": [
              "['RETRO LEAVES MAGNETIC NOTEPAD',\n",
              " 'RETO LEAVES MAGNETIC SHOPPING LIST',\n",
              " 'LEAVES MAGNETIC  SHOPPING LIST',\n",
              " 'VINTAGE LEAF MAGNETIC NOTEPAD']"
            ]
          },
          "metadata": {
            "tags": []
          },
          "execution_count": 36
        }
      ]
    },
    {
      "cell_type": "code",
      "metadata": {
        "colab": {
          "base_uri": "https://localhost:8080/"
        },
        "id": "9pPp3awDYDHG",
        "outputId": "50161fda-e6e0-46ef-ff90-48b8c25f7c72"
      },
      "source": [
        "list(df[df['StockCode'] == '23131']['Description'].unique())"
      ],
      "execution_count": null,
      "outputs": [
        {
          "output_type": "execute_result",
          "data": {
            "text/plain": [
              "['MISTLETOE HEART WREATH CREAM',\n",
              " 'MISELTOE HEART WREATH WHITE',\n",
              " 'MISELTOE HEART WREATH CREAM']"
            ]
          },
          "metadata": {
            "tags": []
          },
          "execution_count": 37
        }
      ]
    },
    {
      "cell_type": "code",
      "metadata": {
        "colab": {
          "base_uri": "https://localhost:8080/"
        },
        "id": "4FXv2SU1DTgW",
        "outputId": "99a2b102-66f8-41dc-af8c-a11b15edf805"
      },
      "source": [
        "df.groupby('StockCode').filter(lambda x: x['Description'].nunique() >= 2)['StockCode'].nunique()"
      ],
      "execution_count": null,
      "outputs": [
        {
          "output_type": "execute_result",
          "data": {
            "text/plain": [
              "213"
            ]
          },
          "metadata": {
            "tags": []
          },
          "execution_count": 38
        }
      ]
    },
    {
      "cell_type": "code",
      "metadata": {
        "colab": {
          "base_uri": "https://localhost:8080/"
        },
        "id": "VrVbYiCvDi1A",
        "outputId": "d8cbe025-c590-4e3e-e519-bd3f16404ad6"
      },
      "source": [
        "round(df.groupby('StockCode').filter(lambda x: x['Description'].nunique() >= 2)['StockCode'].nunique() / df['StockCode'].nunique() * 100, 2)"
      ],
      "execution_count": null,
      "outputs": [
        {
          "output_type": "execute_result",
          "data": {
            "text/plain": [
              "5.79"
            ]
          },
          "metadata": {
            "tags": []
          },
          "execution_count": 39
        }
      ]
    },
    {
      "cell_type": "markdown",
      "metadata": {
        "id": "f8XlxBnJDHhP"
      },
      "source": [
        "`23131`와 같이 옵션상품임에도 옵션이 붙어있지 않은 상품이 있다."
      ]
    },
    {
      "cell_type": "markdown",
      "metadata": {
        "id": "0AX0YpKUn-x6"
      },
      "source": [
        "## UnitPrice\n",
        "일물일가 분석"
      ]
    },
    {
      "cell_type": "markdown",
      "metadata": {
        "id": "RcWLdqI1Ehzx"
      },
      "source": [
        "71.68 %의 상품은 하나의 상품이 여러 개의 `UnitPrice`를 가지며, 이러한 상품의 수는 2,637개이다.\n",
        "\n"
      ]
    },
    {
      "cell_type": "code",
      "metadata": {
        "colab": {
          "base_uri": "https://localhost:8080/"
        },
        "id": "WzimManyyop1",
        "outputId": "d8f2dbb0-bc04-4e1c-80dc-93741571b583"
      },
      "source": [
        "round(df.groupby('StockCode').filter(lambda x: x['UnitPrice'].nunique() >= 2)['StockCode'].nunique() / df['StockCode'].nunique() * 100, 2)"
      ],
      "execution_count": null,
      "outputs": [
        {
          "output_type": "execute_result",
          "data": {
            "text/plain": [
              "71.68"
            ]
          },
          "metadata": {
            "tags": []
          },
          "execution_count": 40
        }
      ]
    },
    {
      "cell_type": "code",
      "metadata": {
        "colab": {
          "base_uri": "https://localhost:8080/"
        },
        "id": "VNvcBKCfcqza",
        "outputId": "923b1c1f-9655-41b9-abae-e7da45a5d1dd"
      },
      "source": [
        "df.groupby('StockCode').filter(lambda x: x['UnitPrice'].nunique() >= 2)['StockCode'].nunique()"
      ],
      "execution_count": null,
      "outputs": [
        {
          "output_type": "execute_result",
          "data": {
            "text/plain": [
              "2637"
            ]
          },
          "metadata": {
            "tags": []
          },
          "execution_count": 41
        }
      ]
    },
    {
      "cell_type": "markdown",
      "metadata": {
        "id": "TC7kd_KJ4l9r"
      },
      "source": [
        "가장 비싸게 팔렸을 때와 싸게 팔렸을 때의 차이가 큰 것은 어떤 상품일까일까?"
      ]
    },
    {
      "cell_type": "code",
      "metadata": {
        "colab": {
          "base_uri": "https://localhost:8080/",
          "height": 362
        },
        "id": "xALeLO4FZhlz",
        "outputId": "7b1d4a86-f7d6-471b-ce2f-91fc97345eb4"
      },
      "source": [
        "price_difference = df.groupby('StockCode', as_index=False).agg({'UnitPrice': ['min', 'max']})\n",
        "price_difference = price_difference[price_difference[('UnitPrice', 'min')] != 0]\n",
        "price_difference.columns = [\"\".join(a) for a in price_difference.columns.to_flat_index()]\n",
        "price_difference['diff_ratio'] = price_difference['UnitPricemax'] / price_difference['UnitPricemin']\n",
        "price_difference = price_difference.sort_values(by='diff_ratio', ascending=False)\n",
        "price_difference = pd.merge(price_difference, df[['StockCode', 'Description']].drop_duplicates(subset=['StockCode']), how='left', on='StockCode')\n",
        "price_difference.head(10)"
      ],
      "execution_count": null,
      "outputs": [
        {
          "output_type": "execute_result",
          "data": {
            "text/html": [
              "<div>\n",
              "<style scoped>\n",
              "    .dataframe tbody tr th:only-of-type {\n",
              "        vertical-align: middle;\n",
              "    }\n",
              "\n",
              "    .dataframe tbody tr th {\n",
              "        vertical-align: top;\n",
              "    }\n",
              "\n",
              "    .dataframe thead th {\n",
              "        text-align: right;\n",
              "    }\n",
              "</style>\n",
              "<table border=\"1\" class=\"dataframe\">\n",
              "  <thead>\n",
              "    <tr style=\"text-align: right;\">\n",
              "      <th></th>\n",
              "      <th>StockCode</th>\n",
              "      <th>UnitPricemin</th>\n",
              "      <th>UnitPricemax</th>\n",
              "      <th>diff_ratio</th>\n",
              "      <th>Description</th>\n",
              "    </tr>\n",
              "  </thead>\n",
              "  <tbody>\n",
              "    <tr>\n",
              "      <th>0</th>\n",
              "      <td>D</td>\n",
              "      <td>0.010</td>\n",
              "      <td>1867.86</td>\n",
              "      <td>186786.000000</td>\n",
              "      <td>Discount</td>\n",
              "    </tr>\n",
              "    <tr>\n",
              "      <th>1</th>\n",
              "      <td>BANK CHARGES</td>\n",
              "      <td>0.001</td>\n",
              "      <td>15.00</td>\n",
              "      <td>15000.000000</td>\n",
              "      <td>Bank Charges</td>\n",
              "    </tr>\n",
              "    <tr>\n",
              "      <th>2</th>\n",
              "      <td>17003</td>\n",
              "      <td>0.160</td>\n",
              "      <td>57.60</td>\n",
              "      <td>360.000000</td>\n",
              "      <td>BROCADE RING PURSE</td>\n",
              "    </tr>\n",
              "    <tr>\n",
              "      <th>3</th>\n",
              "      <td>22502</td>\n",
              "      <td>2.000</td>\n",
              "      <td>649.50</td>\n",
              "      <td>324.750000</td>\n",
              "      <td>PICNIC BASKET WICKER SMALL</td>\n",
              "    </tr>\n",
              "    <tr>\n",
              "      <th>4</th>\n",
              "      <td>84347</td>\n",
              "      <td>0.030</td>\n",
              "      <td>4.96</td>\n",
              "      <td>165.333333</td>\n",
              "      <td>ROTATING SILVER ANGELS T-LIGHT HLDR</td>\n",
              "    </tr>\n",
              "    <tr>\n",
              "      <th>5</th>\n",
              "      <td>40016</td>\n",
              "      <td>0.250</td>\n",
              "      <td>8.29</td>\n",
              "      <td>33.160000</td>\n",
              "      <td>CHINESE DRAGON PAPER LANTERNS</td>\n",
              "    </tr>\n",
              "    <tr>\n",
              "      <th>6</th>\n",
              "      <td>22627</td>\n",
              "      <td>0.760</td>\n",
              "      <td>16.63</td>\n",
              "      <td>21.881579</td>\n",
              "      <td>MINT KITCHEN SCALES</td>\n",
              "    </tr>\n",
              "    <tr>\n",
              "      <th>7</th>\n",
              "      <td>85036C</td>\n",
              "      <td>0.500</td>\n",
              "      <td>8.29</td>\n",
              "      <td>16.580000</td>\n",
              "      <td>ROSE 1 WICK MORRIS BOXED CANDLE</td>\n",
              "    </tr>\n",
              "    <tr>\n",
              "      <th>8</th>\n",
              "      <td>22940</td>\n",
              "      <td>0.500</td>\n",
              "      <td>8.29</td>\n",
              "      <td>16.580000</td>\n",
              "      <td>FELTCRAFT CHRISTMAS FAIRY</td>\n",
              "    </tr>\n",
              "    <tr>\n",
              "      <th>9</th>\n",
              "      <td>22138</td>\n",
              "      <td>0.700</td>\n",
              "      <td>10.79</td>\n",
              "      <td>15.414286</td>\n",
              "      <td>BAKING SET 9 PIECE RETROSPOT</td>\n",
              "    </tr>\n",
              "  </tbody>\n",
              "</table>\n",
              "</div>"
            ],
            "text/plain": [
              "      StockCode  ...                          Description\n",
              "0             D  ...                             Discount\n",
              "1  BANK CHARGES  ...                         Bank Charges\n",
              "2         17003  ...                  BROCADE RING PURSE \n",
              "3         22502  ...           PICNIC BASKET WICKER SMALL\n",
              "4         84347  ...  ROTATING SILVER ANGELS T-LIGHT HLDR\n",
              "5         40016  ...        CHINESE DRAGON PAPER LANTERNS\n",
              "6         22627  ...                  MINT KITCHEN SCALES\n",
              "7        85036C  ...      ROSE 1 WICK MORRIS BOXED CANDLE\n",
              "8         22940  ...            FELTCRAFT CHRISTMAS FAIRY\n",
              "9         22138  ...        BAKING SET 9 PIECE RETROSPOT \n",
              "\n",
              "[10 rows x 5 columns]"
            ]
          },
          "metadata": {
            "tags": []
          },
          "execution_count": 42
        }
      ]
    },
    {
      "cell_type": "markdown",
      "metadata": {
        "id": "Tz5IeP0DEt3z"
      },
      "source": [
        "다른 상품들과 구분되는 특징을 찾을 수 없다."
      ]
    },
    {
      "cell_type": "markdown",
      "metadata": {
        "id": "pfmaGVDJoqtL"
      },
      "source": [
        "# 성과 개선 여부 측정 ( 매출, 구매 빈도, 고객 수 )\n",
        "- 성과를 측정할 때는 주문 취소 트랜잭션은 제외"
      ]
    },
    {
      "cell_type": "code",
      "metadata": {
        "colab": {
          "base_uri": "https://localhost:8080/",
          "height": 205
        },
        "id": "w5ButAcyu7B7",
        "outputId": "19a198ea-4ef9-4b59-ef82-231ce599f897"
      },
      "source": [
        "df = df[~(df['InvoiceNo'].str.contains('C'))]\n",
        "df['TotalPrice'] = df['Quantity'] * df['UnitPrice']\n",
        "df.head()"
      ],
      "execution_count": null,
      "outputs": [
        {
          "output_type": "execute_result",
          "data": {
            "text/html": [
              "<div>\n",
              "<style scoped>\n",
              "    .dataframe tbody tr th:only-of-type {\n",
              "        vertical-align: middle;\n",
              "    }\n",
              "\n",
              "    .dataframe tbody tr th {\n",
              "        vertical-align: top;\n",
              "    }\n",
              "\n",
              "    .dataframe thead th {\n",
              "        text-align: right;\n",
              "    }\n",
              "</style>\n",
              "<table border=\"1\" class=\"dataframe\">\n",
              "  <thead>\n",
              "    <tr style=\"text-align: right;\">\n",
              "      <th></th>\n",
              "      <th>InvoiceNo</th>\n",
              "      <th>StockCode</th>\n",
              "      <th>Description</th>\n",
              "      <th>Quantity</th>\n",
              "      <th>InvoiceDate</th>\n",
              "      <th>UnitPrice</th>\n",
              "      <th>CustomerID</th>\n",
              "      <th>Country</th>\n",
              "      <th>ItemCode</th>\n",
              "      <th>OptionCode</th>\n",
              "      <th>TotalPrice</th>\n",
              "    </tr>\n",
              "  </thead>\n",
              "  <tbody>\n",
              "    <tr>\n",
              "      <th>0</th>\n",
              "      <td>536365</td>\n",
              "      <td>85123A</td>\n",
              "      <td>WHITE HANGING HEART T-LIGHT HOLDER</td>\n",
              "      <td>6</td>\n",
              "      <td>2010-12-01 08:26:00</td>\n",
              "      <td>2.55</td>\n",
              "      <td>17850</td>\n",
              "      <td>United Kingdom</td>\n",
              "      <td>85123</td>\n",
              "      <td>A</td>\n",
              "      <td>15.30</td>\n",
              "    </tr>\n",
              "    <tr>\n",
              "      <th>1</th>\n",
              "      <td>536365</td>\n",
              "      <td>71053</td>\n",
              "      <td>WHITE METAL LANTERN</td>\n",
              "      <td>6</td>\n",
              "      <td>2010-12-01 08:26:00</td>\n",
              "      <td>3.39</td>\n",
              "      <td>17850</td>\n",
              "      <td>United Kingdom</td>\n",
              "      <td>71053</td>\n",
              "      <td></td>\n",
              "      <td>20.34</td>\n",
              "    </tr>\n",
              "    <tr>\n",
              "      <th>2</th>\n",
              "      <td>536365</td>\n",
              "      <td>84406B</td>\n",
              "      <td>CREAM CUPID HEARTS COAT HANGER</td>\n",
              "      <td>8</td>\n",
              "      <td>2010-12-01 08:26:00</td>\n",
              "      <td>2.75</td>\n",
              "      <td>17850</td>\n",
              "      <td>United Kingdom</td>\n",
              "      <td>84406</td>\n",
              "      <td>B</td>\n",
              "      <td>22.00</td>\n",
              "    </tr>\n",
              "    <tr>\n",
              "      <th>3</th>\n",
              "      <td>536365</td>\n",
              "      <td>84029G</td>\n",
              "      <td>KNITTED UNION FLAG HOT WATER BOTTLE</td>\n",
              "      <td>6</td>\n",
              "      <td>2010-12-01 08:26:00</td>\n",
              "      <td>3.39</td>\n",
              "      <td>17850</td>\n",
              "      <td>United Kingdom</td>\n",
              "      <td>84029</td>\n",
              "      <td>G</td>\n",
              "      <td>20.34</td>\n",
              "    </tr>\n",
              "    <tr>\n",
              "      <th>4</th>\n",
              "      <td>536365</td>\n",
              "      <td>84029E</td>\n",
              "      <td>RED WOOLLY HOTTIE WHITE HEART.</td>\n",
              "      <td>6</td>\n",
              "      <td>2010-12-01 08:26:00</td>\n",
              "      <td>3.39</td>\n",
              "      <td>17850</td>\n",
              "      <td>United Kingdom</td>\n",
              "      <td>84029</td>\n",
              "      <td>E</td>\n",
              "      <td>20.34</td>\n",
              "    </tr>\n",
              "  </tbody>\n",
              "</table>\n",
              "</div>"
            ],
            "text/plain": [
              "  InvoiceNo StockCode  ... OptionCode  TotalPrice\n",
              "0    536365    85123A  ...          A       15.30\n",
              "1    536365     71053  ...                  20.34\n",
              "2    536365    84406B  ...          B       22.00\n",
              "3    536365    84029G  ...          G       20.34\n",
              "4    536365    84029E  ...          E       20.34\n",
              "\n",
              "[5 rows x 11 columns]"
            ]
          },
          "metadata": {
            "tags": []
          },
          "execution_count": 43
        }
      ]
    },
    {
      "cell_type": "code",
      "metadata": {
        "id": "C8lm4snjyrPi",
        "colab": {
          "base_uri": "https://localhost:8080/",
          "height": 1000
        },
        "outputId": "8f35da34-3abb-4370-eded-1ab6ae418abc"
      },
      "source": [
        "fig, ax = plt.subplots(nrows=4, ncols=1,figsize=(15,20))\n",
        "\n",
        "rev = df[df['TotalPrice']>=0]\n",
        "rev['TransactionsCount'] = 1\n",
        "rev = rev.groupby(rev['InvoiceDate'].dt.date).agg({'TotalPrice':'sum',\n",
        "                                                  'Quantity': 'sum',\n",
        "                                                  'CustomerID': 'count',\n",
        "                                                  'TransactionsCount':'sum'})\n",
        "rev['10 Days Moving Average Revenue'] = rev['TotalPrice'].rolling(10).mean()\n",
        "rev['10 Days Moving Average Quantity'] = rev['Quantity'].rolling(10).mean()\n",
        "rev['10 Days Moving Transactions Count'] = rev['TransactionsCount'].rolling(10).mean()\n",
        "\n",
        "cust = df.groupby('CustomerID').first().reset_index()[['CustomerID','InvoiceDate']]\n",
        "cust = cust.groupby(cust.InvoiceDate.dt.date).agg({'CustomerID':'count'})\n",
        "cust['10 Days Moving Average Quantity'] = cust['CustomerID'].rolling(10).mean()\n",
        "\n",
        "sns.set_style(\"whitegrid\")\n",
        "sns.lineplot(data=rev[['TotalPrice','10 Days Moving Average Revenue']], palette='magma_r', linewidth=1.5, ax=ax[0],legend=False)\n",
        "ax[0].legend(title='Revenue Trends', loc='upper left', labels=['Revenue', '10 Days Moving Average Revenue'])\n",
        "ax[0].title.set_text('Revenue Trends')\n",
        "ax[0].set_xlabel('')\n",
        "\n",
        "sns.lineplot(data=rev[['TotalPrice','10 Days Moving Average Quantity']], palette='ocean', linewidth=1.5, ax=ax[1])\n",
        "ax[1].legend(title='Quantity Trends', loc='upper left', labels=['Quantity Sold', '10 Days Moving Average Quantity'])\n",
        "ax[1].title.set_text('Quantity Sold Trends')\n",
        "ax[1].set_xlabel('')\n",
        "\n",
        "sns.lineplot(data=cust, palette='cividis', linewidth=1.5, ax=ax[2])\n",
        "ax[2].legend(title='New Customers Trends', loc='upper right', labels=['New Customers', '10 Days Moving Average New Customers'])\n",
        "ax[2].title.set_text('New Customers Trends')\n",
        "ax[2].set_xlabel('')\n",
        "\n",
        "sns.lineplot(data=rev[['TransactionsCount','10 Days Moving Transactions Count']], palette='twilight_shifted', linewidth=1.5, ax=ax[3])\n",
        "ax[3].legend(title='Transactions Count Trend', loc='upper right', labels=['Transactions Count', '10 Days Moving Average Transactions Count'])\n",
        "ax[3].title.set_text('Transactions Count Trends')\n",
        "ax[3].set_xlabel('')\n",
        "\n",
        "plt.show()"
      ],
      "execution_count": null,
      "outputs": [
        {
          "output_type": "display_data",
          "data": {
            "image/png": "[encoded data removed]",
            "text/plain": [
              "<Figure size 1080x1440 with 4 Axes>"
            ]
          },
          "metadata": {
            "tags": [],
            "needs_background": "light"
          }
        }
      ]
    },
    {
      "cell_type": "markdown",
      "metadata": {
        "id": "xh6390iqowBP"
      },
      "source": [
        "# 구매 패턴 분석 ( 월별, 일별, 요일별, 시간별 ), ( 히트맵 사용 )"
      ]
    },
    {
      "cell_type": "markdown",
      "metadata": {
        "id": "YNVI-7E6Oo1k"
      },
      "source": [
        "## 월별 매출\n",
        "- 연말에 성과가 좋아진다.\n",
        "- 신규고객의 유입이 줄어들다가 12월에 튀는 경향이 있다."
      ]
    },
    {
      "cell_type": "code",
      "metadata": {
        "colab": {
          "base_uri": "https://localhost:8080/",
          "height": 1000
        },
        "id": "3QjwJAgcoxKc",
        "outputId": "40709f97-9ee1-406e-90d4-256034226f6c"
      },
      "source": [
        "fig, ax = plt.subplots(nrows=4, ncols=1,figsize=(15,20))\n",
        "rev = df[(df['TotalPrice']>0)&(df['InvoiceDate'].dt.year==2011)]\n",
        "rev['Transactions Count'] = 1\n",
        "rev = rev.groupby(rev['InvoiceDate'].dt.month).agg({'TotalPrice':'sum',\n",
        "                                                  'Quantity': 'sum',\n",
        "                                                  'CustomerID': 'count',\n",
        "                                                'Transactions Count':'sum'})\n",
        "rev = rev.reset_index()\n",
        "rev['Month'] = rev['InvoiceDate'].apply(lambda x: calendar.month_abbr[x])\n",
        "rev = rev.rename({'TotalPrice':'Revenue'},axis=1)\n",
        "cust = df.groupby('CustomerID').first().reset_index()[['CustomerID','InvoiceDate']]\n",
        "cust = cust.groupby(cust.InvoiceDate.dt.month).agg({'CustomerID':'count'})\n",
        "cust = cust.reset_index()\n",
        "cust['Month'] = cust['InvoiceDate'].apply(lambda x: calendar.month_abbr[x])\n",
        "\n",
        "sns.set_style(\"whitegrid\")\n",
        "sns.barplot(data=rev, x=rev.Month, y='Revenue', palette='magma_r', ax=ax[0])\n",
        "ax[0].title.set_text('Revenue by Months')\n",
        "\n",
        "sns.barplot(data=rev, x=rev.Month, y='Quantity',  palette='ocean', ax=ax[1])\n",
        "ax[1].title.set_text('Quantity Sold by Months')\n",
        "\n",
        "sns.barplot(data=cust, x=cust.Month, y='CustomerID',  palette='cividis', ax=ax[2])\n",
        "ax[2].title.set_text('New Customers by Months')\n",
        "fig.suptitle('Growth Month wise',fontsize=16)\n",
        "\n",
        "sns.barplot(data=rev, x=rev.Month, y='Transactions Count',  palette='twilight_shifted', ax=ax[3])\n",
        "ax[3].title.set_text('Transactions Count by Months')\n",
        "fig.suptitle('Growth Month wise',fontsize=16)\n",
        "\n",
        "plt.show()"
      ],
      "execution_count": null,
      "outputs": [
        {
          "output_type": "stream",
          "text": [
            "/usr/local/lib/python3.7/dist-packages/ipykernel_launcher.py:3: SettingWithCopyWarning: \n",
            "A value is trying to be set on a copy of a slice from a DataFrame.\n",
            "Try using .loc[row_indexer,col_indexer] = value instead\n",
            "\n",
            "See the caveats in the documentation: https://pandas.pydata.org/pandas-docs/stable/user_guide/indexing.html#returning-a-view-versus-a-copy\n",
            "  This is separate from the ipykernel package so we can avoid doing imports until\n"
          ],
          "name": "stderr"
        },
        {
          "output_type": "display_data",
          "data": {
            "image/png": "[encoded data removed]",
            "text/plain": [
              "<Figure size 1080x1440 with 4 Axes>"
            ]
          },
          "metadata": {
            "tags": []
          }
        }
      ]
    },
    {
      "cell_type": "markdown",
      "metadata": {
        "id": "DWElYo4jOWH1"
      },
      "source": [
        "## 일별 매출"
      ]
    },
    {
      "cell_type": "code",
      "metadata": {
        "colab": {
          "base_uri": "https://localhost:8080/",
          "height": 493
        },
        "id": "0iA6NF4qNCqi",
        "outputId": "61cab056-5bad-49d1-9f22-67dda491203f"
      },
      "source": [
        "fig, ax = plt.subplots(nrows=2, ncols=1,figsize=(15,7))\n",
        "sns.set_style(\"whitegrid\")\n",
        "\n",
        "date = df[df['TotalPrice']>=0][['InvoiceDate','TotalPrice','Quantity']]\n",
        "date = date.groupby(date['InvoiceDate'].dt.day)[['TotalPrice','Quantity']].sum()\n",
        "\n",
        "sns.barplot(data = date, x=date.index, y='TotalPrice', alpha=1, ax=ax[0])\n",
        "sns.lineplot(data = date, x=date.index, y='Quantity', marker='o', sort = False, ax=ax[1])\n",
        "fig.suptitle('Revenue and Quantity by Sale Daywise',fontsize=16)\n",
        "\n",
        "plt.show()"
      ],
      "execution_count": null,
      "outputs": [
        {
          "output_type": "display_data",
          "data": {
            "image/png": "[encoded data removed]",
            "text/plain": [
              "<Figure size 1080x504 with 2 Axes>"
            ]
          },
          "metadata": {
            "tags": []
          }
        }
      ]
    },
    {
      "cell_type": "markdown",
      "metadata": {
        "id": "jneNI8RhOAp7"
      },
      "source": [
        "## 요일별 매출\n",
        "- 목요일의 매출이 가장 높다.\n",
        "- 토요일은 매출이 없는 것으로 보아 장사를 안하는 날이라는 것을 알 수 있다."
      ]
    },
    {
      "cell_type": "code",
      "metadata": {
        "colab": {
          "base_uri": "https://localhost:8080/",
          "height": 370
        },
        "id": "CnLjyfoqM6ci",
        "outputId": "1aa0f38f-2338-4f5d-eb6f-00f2bd929ed9"
      },
      "source": [
        "fig, ax = plt.subplots(nrows=1, ncols=1,figsize=(15,5))\n",
        "sns.set_style(\"whitegrid\")\n",
        "\n",
        "week = df[df['TotalPrice']>=0][['InvoiceDate','TotalPrice','Quantity']]\n",
        "week = week.groupby(week['InvoiceDate'].dt.weekday)[['TotalPrice','Quantity']].sum()\n",
        "week = week.reset_index()\n",
        "week['Week'] = week['InvoiceDate'].apply(lambda x: calendar.day_name[x])\n",
        "\n",
        "sns.lineplot(data = week, x=week.Week, y='Quantity', marker='o', sort = False, ax=ax)\n",
        "ax2 = ax.twinx()\n",
        "sns.barplot(data = week, x=week.Week, y='TotalPrice', alpha=0.5, ax=ax2)\n",
        "fig.suptitle('Revenue and Quantity by Sale Week Day Wise',fontsize=16)\n",
        "\n",
        "plt.show()"
      ],
      "execution_count": null,
      "outputs": [
        {
          "output_type": "display_data",
          "data": {
            "image/png": "[encoded data removed]",
            "text/plain": [
              "<Figure size 1080x360 with 2 Axes>"
            ]
          },
          "metadata": {
            "tags": []
          }
        }
      ]
    },
    {
      "cell_type": "markdown",
      "metadata": {
        "id": "85T8-aMIORSu"
      },
      "source": [
        "## 시간별 매출\n",
        "- 10 - 15시 사이에서 매출이 많이 발생한다.\n",
        "- 21 - 05시는 없는 것으로 보아 그 시간에는 장사를 안하는 거나 데이터셋을 가공하는 과정에서 해당 시간대의 데이터를 삭제했을 수도 있다."
      ]
    },
    {
      "cell_type": "code",
      "metadata": {
        "colab": {
          "base_uri": "https://localhost:8080/",
          "height": 493
        },
        "id": "ufvVp1rEM-to",
        "outputId": "abaaa72d-63c8-45b3-8dea-965424edf2ba"
      },
      "source": [
        "fig, ax = plt.subplots(nrows=2, ncols=1,figsize=(15,7))\n",
        "sns.set_style(\"whitegrid\")\n",
        "\n",
        "day = df[df['TotalPrice']>=0][['InvoiceDate','TotalPrice','Quantity']]\n",
        "day = day.groupby(day['InvoiceDate'].dt.hour)[['TotalPrice','Quantity']].sum()\n",
        "\n",
        "sns.barplot(data = day, x=day.index, y='TotalPrice', alpha=1, ax=ax[0])\n",
        "sns.lineplot(data = day, x=day.index, y='Quantity', marker='o', sort = False, ax=ax[1])\n",
        "fig.suptitle('Revenue and Quantity by Sale Hourwise',fontsize=16)\n",
        "plt.show()"
      ],
      "execution_count": null,
      "outputs": [
        {
          "output_type": "display_data",
          "data": {
            "image/png": "[encoded data removed]",
            "text/plain": [
              "<Figure size 1080x504 with 2 Axes>"
            ]
          },
          "metadata": {
            "tags": []
          }
        }
      ]
    },
    {
      "cell_type": "markdown",
      "metadata": {
        "id": "TbBhVOH1GIGZ"
      },
      "source": [
        "주문은 주로 10시에서 15시 사이에 발생하고, 12시 즈음에 가장 많이 발생한다."
      ]
    },
    {
      "cell_type": "code",
      "metadata": {
        "colab": {
          "base_uri": "https://localhost:8080/",
          "height": 404
        },
        "id": "wqt2aI-jNOwX",
        "outputId": "575d5a54-97aa-403f-c94d-e3136c461c7c"
      },
      "source": [
        "tmp = df.copy()\n",
        "tmp['Day'] = tmp['InvoiceDate'].dt.day\n",
        "tmp['Hour'] = tmp['InvoiceDate'].dt.hour\n",
        "\n",
        "grouped_df  = tmp.groupby([tmp['Day'], tmp['Hour']], as_index=False)[\"InvoiceNo\"].nunique()\n",
        "grouped_df = grouped_df.pivot('Day', 'Hour', 'InvoiceNo')\n",
        "\n",
        "plt.figure(figsize=(12,6))\n",
        "sns.heatmap(grouped_df)\n",
        "plt.title(\"Frequency of Day Vs Hour of day\")\n",
        "plt.show()"
      ],
      "execution_count": null,
      "outputs": [
        {
          "output_type": "display_data",
          "data": {
            "image/png": "[encoded data removed]",
            "text/plain": [
              "<Figure size 864x432 with 2 Axes>"
            ]
          },
          "metadata": {
            "tags": []
          }
        }
      ]
    }
  ]
}